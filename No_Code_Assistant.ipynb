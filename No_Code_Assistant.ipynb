{
 "cells": [
  {
   "cell_type": "code",
   "execution_count": 1,
   "id": "3981a019-39bf-4f1a-be86-7b939e3b0965",
   "metadata": {},
   "outputs": [],
   "source": [
    "from Util import get_openai_api_key\n",
    "OPEN_API_KEY=get_openai_api_key()"
   ]
  },
  {
   "cell_type": "code",
   "execution_count": 2,
   "id": "e94eff3c-a84a-4e85-8672-c6390f430c0b",
   "metadata": {},
   "outputs": [],
   "source": [
    "llm_config={\n",
    "    \"config_list\":{\n",
    "        \"model\":\"gpt-3.5-turbo\",\n",
    "        \"api_key\":OPEN_API_KEY\n",
    "    }\n",
    "}"
   ]
  },
  {
   "cell_type": "code",
   "execution_count": 7,
   "id": "ab69bd17-e48e-43fe-bb54-7898a4d60693",
   "metadata": {},
   "outputs": [],
   "source": [
    "import pandas as pd\n",
    "data_item= pd.read_csv(\"email_messages.csv\")\n",
    "new_data= data_item.to_string(index=False)"
   ]
  },
  {
   "cell_type": "code",
   "execution_count": 8,
   "id": "e94e11e8-c491-423a-b940-46e9c987774a",
   "metadata": {},
   "outputs": [],
   "source": [
    "from autogen import AssistantAgent\n",
    "\n",
    "email_detector_agent=AssistantAgent(\n",
    "    name=\"email_detector_agent\",\n",
    "    system_message=f\"\"\" \n",
    "    You are an intelligent data processing assistant. You are given a dataset containing email messages with columns: Email_ID, Sender_Email, Subject, Content, and Label. Your task is to analyze each email and detect whether it is a \"Spam\" or \"Verified\" message based on suspicious keywords or patterns like fake prizes, urgent actions, or offers.\n",
    "\n",
    "    Your primary goal is to filter and return only the rows where the email is classified as \"Verified\" in the Label column. Ignore or discard any row marked as \"Spam\".\n",
    "    \n",
    "    Output only the filtered dataset with the following columns: Email_ID, Sender_Email, Subject, Content, Label.\n",
    "\n",
    "    Hers is the dataset:\n",
    "\n",
    "    {new_data}\n",
    "\n",
    "    \"\"\",\n",
    "    human_input_mode=\"NEVER\",\n",
    "    llm_config=llm_config\n",
    "\n",
    ")"
   ]
  },
  {
   "cell_type": "code",
   "execution_count": 9,
   "id": "2fde0420-1d92-4687-9ce1-b56fb9041db0",
   "metadata": {},
   "outputs": [],
   "source": [
    "csv_writer_agent = AssistantAgent(\n",
    "    name=\"csv_writer_agent\",\n",
    "    system_message=\"\"\"\n",
    "You are a CSV writing assistant.\n",
    "\n",
    "You will receive a filtered dataset (as text table or CSV string).\n",
    "Task:\n",
    "- Convert it into pandas DataFrame.\n",
    "- Generate Python code to save it into 'verified_emails.csv'.\n",
    "Output only Python code inside a code block.\n",
    "\"\"\",\n",
    "    llm_config=llm_config,\n",
    ")"
   ]
  },
  {
   "cell_type": "code",
   "execution_count": 11,
   "id": "102ad331-bce2-4c83-85bc-a0e5d1b06d61",
   "metadata": {},
   "outputs": [],
   "source": [
    "from autogen import ConversableAgent\n",
    "user_agent = ConversableAgent(\n",
    "    name=\"user_agent\",\n",
    "    human_input_mode=\"NEVER\"\n",
    ")"
   ]
  },
  {
   "cell_type": "code",
   "execution_count": 12,
   "id": "e55b2190-926c-4213-b2b8-c751804eac03",
   "metadata": {},
   "outputs": [],
   "source": [
    "from autogen import GroupChat,GroupChatManager\n",
    "\n",
    "group_chat= GroupChat(\n",
    "    agents=[\n",
    "        email_detector_agent,\n",
    "        csv_writer_agent,\n",
    "        user_agent\n",
    "    ],\n",
    "    messages=[],\n",
    "    max_round=5\n",
    ")\n",
    "manager= GroupChatManager(\n",
    "    groupchat=group_chat,\n",
    "    llm_config=llm_config\n",
    ")"
   ]
  },
  {
   "cell_type": "code",
   "execution_count": 14,
   "id": "e1d802ab-c775-40dd-80ad-f363b66f57dd",
   "metadata": {},
   "outputs": [
    {
     "name": "stdout",
     "output_type": "stream",
     "text": [
      "📬 Starting Agentic Workflow with GroupChat...\n",
      "\n",
      "\u001b[33muser_agent\u001b[0m (to chat_manager):\n",
      "\n",
      "Here is the dataset of email messages:\n",
      "\n",
      " Email_ID             Sender_Email                 Subject                                 Content    Label\n",
      "        1      lottery@fakewin.com        Congratulations!     You've won $10,000. Click to claim!     Spam\n",
      "        2       support@amazon.com            Your receipt   Your Amazon order #12345 has shipped. Verified\n",
      "        3     freegift@scammer.net  Claim your free iPhone                 Only 1 left! Enter now!     Spam\n",
      "        4     updates@linkedin.com  New connection request   You have a new connection from Sarah. Verified\n",
      "        5     offers@cheapmeds.com         Buy meds online              Get Viagra at 90% off now!     Spam\n",
      "        6      no-reply@github.com          Security alert A login was detected from a new device. Verified\n",
      "        7 winbig@casino-online.biz            Win big now!     Deposit now and get 100 free spins!     Spam\n",
      "        8  notifications@slack.com       New message alert You received a new message in #general. Verified\n",
      "        9     info@taxrefundgov.in    Tax refund available    Submit your bank details for refund.     Spam\n",
      "       10    newsletter@medium.com       Top stories today  Here are your daily Medium highlights. Verified\n",
      "       11      urgent@fakenews.net       Account suspended         Act now to avoid losing access!     Spam\n",
      "       12      billing@netflix.com     Your payment is due    Your next billing cycle starts soon. Verified\n",
      "       13    promo@lotto-world.com      Last chance to win       Claim your prize before midnight!     Spam\n",
      "       14             info@zoom.us        Meeting reminder      Your meeting starts in 15 minutes. Verified\n",
      "       15      loan@fastcash.today       Pre-approved loan             Get up to $5,000 instantly!     Spam\n",
      "       16      support@spotify.com          Password reset    Reset your password using this link. Verified\n",
      "       17 cheaptravel@airdealz.com           Flight deals!           Fly to Dubai for just ₹3,999!     Spam\n",
      "       18        info@coursera.org       Course completion You’ve completed your course on Python. Verified\n",
      "       19      bonus@fakecrypto.io Claim your crypto bonus                Get $100 in Bitcoin now!     Spam\n",
      "       20        alerts@icloud.com       New sign-in alert      Your Apple ID was used to sign in. Verified\n",
      "\n",
      "Please filter only the verified emails and convert the result to a CSV file.\n",
      "\n",
      "--------------------------------------------------------------------------------\n",
      "\u001b[32m\n",
      "Next speaker: email_detector_agent\n",
      "\u001b[0m\n",
      "\u001b[33memail_detector_agent\u001b[0m (to chat_manager):\n",
      "\n",
      "Email_ID,Sender_Email,Subject,Content,Label\n",
      "2,support@amazon.com,Your receipt,Your Amazon order #12345 has shipped.,Verified\n",
      "4,updates@linkedin.com,New connection request,You have a new connection from Sarah.,Verified\n",
      "6,no-reply@github.com,Security alert,A login was detected from a new device.,Verified\n",
      "8,notifications@slack.com,New message alert,You received a new message in #general.,Verified\n",
      "10,newsletter@medium.com,Top stories today,Here are your daily Medium highlights.,Verified\n",
      "12,billing@netflix.com,Your payment is due,Your next billing cycle starts soon.,Verified\n",
      "14,info@zoom.us,Meeting reminder,Your meeting starts in 15 minutes.,Verified\n",
      "16,support@spotify.com,Password reset,Reset your password using this link.,Verified\n",
      "18,info@coursera.org,Course completion,You’ve completed your course on Python.,Verified\n",
      "20,alerts@icloud.com,New sign-in alert,Your Apple ID was used to sign in.,Verified\n",
      "\n",
      "--------------------------------------------------------------------------------\n",
      "\u001b[32m\n",
      "Next speaker: csv_writer_agent\n",
      "\u001b[0m\n",
      "\u001b[33mcsv_writer_agent\u001b[0m (to chat_manager):\n",
      "\n",
      "```python\n",
      "import pandas as pd\n",
      "\n",
      "# Create DataFrame\n",
      "data = {\n",
      "    'Email_ID': [2, 4, 6, 8, 10, 12, 14, 16, 18, 20],\n",
      "    'Sender_Email': ['support@amazon.com', 'updates@linkedin.com', 'no-reply@github.com', 'notifications@slack.com', 'newsletter@medium.com', 'billing@netflix.com', 'info@zoom.us', 'support@spotify.com', 'info@coursera.org', 'alerts@icloud.com'],\n",
      "    'Subject': ['Your receipt', 'New connection request', 'Security alert', 'New message alert', 'Top stories today', 'Your payment is due', 'Meeting reminder', 'Password reset', 'Course completion', 'New sign-in alert'],\n",
      "    'Content': ['Your Amazon order #12345 has shipped.', 'You have a new connection from Sarah.', 'A login was detected from a new device.', 'You received a new message in #general.', 'Here are your daily Medium highlights.', 'Your next billing cycle starts soon.', 'Your meeting starts in 15 minutes.', 'Reset your password using this link.', 'You’ve completed your course on Python.', 'Your Apple ID was used to sign in.'],\n",
      "    'Label': ['Verified'] * 10\n",
      "}\n",
      "\n",
      "df = pd.DataFrame(data)\n",
      "\n",
      "# Save to CSV\n",
      "df.to_csv('verified_emails.csv', index=False)\n",
      "```\n",
      "\n",
      "--------------------------------------------------------------------------------\n",
      "\u001b[32m\n",
      "Next speaker: user_agent\n",
      "\u001b[0m\n",
      "\u001b[33muser_agent\u001b[0m (to chat_manager):\n",
      "\n",
      "\n",
      "\n",
      "--------------------------------------------------------------------------------\n",
      "\u001b[32m\n",
      "Next speaker: email_detector_agent\n",
      "\u001b[0m\n",
      "\u001b[33memail_detector_agent\u001b[0m (to chat_manager):\n",
      "\n",
      "The filtered dataset containing only the verified emails has been saved to a CSV file named \"verified_emails.csv\".\n",
      "\n",
      "--------------------------------------------------------------------------------\n",
      "\u001b[31m\n",
      ">>>>>>>> TERMINATING RUN (b198f148-7d2c-41d7-9abc-e2c3da79ec40): Maximum rounds (5) reached\u001b[0m\n"
     ]
    }
   ],
   "source": [
    "print(\"📬 Starting Agentic Workflow with GroupChat...\\n\")\n",
    "\n",
    "# Kick off the conversation from user_agent\n",
    "results=user_agent.initiate_chat(\n",
    "    manager,\n",
    "    message=f\"\"\"Here is the dataset of email messages:\\n\\n{new_data}\\n\\nPlease filter only the verified emails and convert the result to a CSV file.\"\"\"\n",
    ")"
   ]
  },
  {
   "cell_type": "code",
   "execution_count": 15,
   "id": "d83bf95b-d3b6-4416-be60-1bdd2e7ecaa2",
   "metadata": {},
   "outputs": [],
   "source": [
    "data = {\n",
    "    'Email_ID': [2, 4, 6, 8, 10, 12, 14, 16, 18, 20],\n",
    "    'Sender_Email': ['support@amazon.com', 'updates@linkedin.com', 'no-reply@github.com', 'notifications@slack.com', 'newsletter@medium.com', 'billing@netflix.com', 'info@zoom.us', 'support@spotify.com', 'info@coursera.org', 'alerts@icloud.com'],\n",
    "    'Subject': ['Your receipt', 'New connection request', 'Security alert', 'New message alert', 'Top stories today', 'Your payment is due', 'Meeting reminder', 'Password reset', 'Course completion', 'New sign-in alert'],\n",
    "    'Content': ['Your Amazon order #12345 has shipped.', 'You have a new connection from Sarah.', 'A login was detected from a new device.', 'You received a new message in #general.', 'Here are your daily Medium highlights.', 'Your next billing cycle starts soon.', 'Your meeting starts in 15 minutes.', 'Reset your password using this link.', 'You’ve completed your course on Python.', 'Your Apple ID was used to sign in.'],\n",
    "    'Label': ['Verified'] * 10\n",
    "}\n",
    "\n",
    "df = pd.DataFrame(data)"
   ]
  },
  {
   "cell_type": "code",
   "execution_count": 16,
   "id": "335ee99d-08a5-4684-b50f-792ad4174265",
   "metadata": {},
   "outputs": [],
   "source": [
    "df.to_csv('verified_emails.csv', index=False)"
   ]
  },
  {
   "cell_type": "code",
   "execution_count": null,
   "id": "5f12bd70-5726-46ef-a5fa-b0c7854ea29d",
   "metadata": {},
   "outputs": [],
   "source": []
  }
 ],
 "metadata": {
  "kernelspec": {
   "display_name": "Python 3 (ipykernel)",
   "language": "python",
   "name": "python3"
  },
  "language_info": {
   "codemirror_mode": {
    "name": "ipython",
    "version": 3
   },
   "file_extension": ".py",
   "mimetype": "text/x-python",
   "name": "python",
   "nbconvert_exporter": "python",
   "pygments_lexer": "ipython3",
   "version": "3.12.7"
  }
 },
 "nbformat": 4,
 "nbformat_minor": 5
}
