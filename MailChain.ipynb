{
 "cells": [
  {
   "cell_type": "code",
   "execution_count": 24,
   "id": "7a514f8b-f7c7-49e7-8386-316b203aea9c",
   "metadata": {},
   "outputs": [],
   "source": [
    "from Util import get_openai_api_key\n",
    "OPEN_API_KEY=get_openai_api_key()"
   ]
  },
  {
   "cell_type": "code",
   "execution_count": 25,
   "id": "c3a02809-80b3-4e27-9946-1a39788a8773",
   "metadata": {},
   "outputs": [],
   "source": [
    "llm_config={\n",
    "    \"config_list\":{\n",
    "        \"model\":\"gpt-3.5-turbo\",\n",
    "        \"api_key\":OPEN_API_KEY, \n",
    "    }\n",
    "}"
   ]
  },
  {
   "cell_type": "code",
   "execution_count": 26,
   "id": "94aaf485-bb26-4122-9025-a80504af2a31",
   "metadata": {},
   "outputs": [],
   "source": [
    "from autogen import AssistantAgent,UserProxyAgent\n",
    "\n",
    "#agent1\n",
    "\n",
    "user_input=UserProxyAgent(\n",
    "    name=\"user_input\",\n",
    "    human_input_mode=\"NEVER\",\n",
    "    max_consecutive_auto_reply=0,\n",
    "    code_execution_config={\n",
    "        \"use_docker\":False\n",
    "    }\n",
    ")\n",
    "email_writer=AssistantAgent(\n",
    "    name=\"email_writer\",\n",
    "    max_consecutive_auto_reply=3,\n",
    "    llm_config=llm_config,\n",
    "    system_message=\"You are a marketing copywriter. Generate a promotional email using the given campaign details. Use persuasive and friendly language.\",\n",
    ")\n",
    "translator_writer= AssistantAgent(\n",
    "    name=\"translator_writer\",\n",
    "    max_consecutive_auto_reply=3,\n",
    "    llm_config=llm_config,\n",
    "    system_message=\"You are a language translator. Translate the given email content into Hindi, Spanish, and French while keeping the tone and formatting intact.\",\n",
    ")\n",
    "reviewer_writer=AssistantAgent(\n",
    "    name=\"reviewer_writer\",\n",
    "    max_consecutive_auto_reply=3,\n",
    "    llm_config=llm_config,\n",
    "    system_message=\"You are a professional proofreader. Correct any grammar mistakes, optimize the subject line, and enhance the call-to-action.\"\n",
    ")\n",
    "preview_sender=AssistantAgent(\n",
    "    name=\"preview_sender\",\n",
    "    max_consecutive_auto_reply=3,\n",
    "    llm_config=llm_config,\n",
    "    system_message=\"You simulate sending a preview email to the manager. Output the preview content and ask: 'Do you approve this email for dispatch? (yes/no)'\"\n",
    ")\n",
    "dispatcher = AssistantAgent(\n",
    "    name=\"FinalDispatcherAgent\",\n",
    "    max_consecutive_auto_reply=3,\n",
    "    llm_config=llm_config,\n",
    "    system_message=\"If the manager approves, format and simulate sending the email to 10,000 customers. Confirm the dispatch and close the loop.\",\n",
    ")\n"
   ]
  },
  {
   "cell_type": "code",
   "execution_count": 27,
   "id": "ccd2efc9-5fb0-42d5-abc3-bc0918fee3a7",
   "metadata": {},
   "outputs": [],
   "source": [
    "user_campaign_input = \"\"\"\n",
    "Here are the campaign details:\n",
    "- Product name: GlowUp Skin Serum\n",
    "- Target audience: Women aged 25–40 interested in skincare\n",
    "- Discount: 25% off for first-time buyers\n",
    "- Launch date: July 10, 2025\n",
    "\n",
    "Please write a marketing email using this information.\n",
    "\"\"\""
   ]
  },
  {
   "cell_type": "code",
   "execution_count": 28,
   "id": "0af44195-2a39-47d4-9bce-aa7954ed9a99",
   "metadata": {},
   "outputs": [],
   "source": [
    "def mail_chain():\n",
    "    \n",
    "    email_writer.receive(\n",
    "    sender=user_input,\n",
    "    message={\"content\": user_campaign_input}\n",
    "    ),\n",
    "    email_writer.register_reply(translator_writer,reply_func=translator_writer.generate_reply),\n",
    "    translator_writer.register_reply(reviewer_writer,reply_func=reviewer_writer.generate_reply),\n",
    "    reviewer_writer.register_reply(preview_sender,reply_func=preview_sender.generate_reply),\n",
    "    preview_sender.register_reply(dispatcher,reply_func=dispatcher.generate_reply)"
   ]
  },
  {
   "cell_type": "code",
   "execution_count": 29,
   "id": "73652ab4-3a62-4a39-a98d-224ab5f28417",
   "metadata": {},
   "outputs": [
    {
     "name": "stdout",
     "output_type": "stream",
     "text": [
      "\u001b[33muser_input\u001b[0m (to email_writer):\n",
      "\n",
      "\n",
      "Here are the campaign details:\n",
      "- Product name: GlowUp Skin Serum\n",
      "- Target audience: Women aged 25–40 interested in skincare\n",
      "- Discount: 25% off for first-time buyers\n",
      "- Launch date: July 10, 2025\n",
      "\n",
      "Please write a marketing email using this information.\n",
      "\n",
      "\n",
      "--------------------------------------------------------------------------------\n"
     ]
    }
   ],
   "source": [
    "mail_chain()"
   ]
  },
  {
   "cell_type": "code",
   "execution_count": null,
   "id": "4f9ad6d4-d9f3-4b24-8024-8aa0d61afdd0",
   "metadata": {},
   "outputs": [],
   "source": []
  },
  {
   "cell_type": "code",
   "execution_count": null,
   "id": "6f0f3db4-e9b4-47eb-9cbb-67ae72502d99",
   "metadata": {},
   "outputs": [],
   "source": []
  },
  {
   "cell_type": "code",
   "execution_count": null,
   "id": "e2bb5aaf-d811-42d3-95c5-e888916afa2f",
   "metadata": {},
   "outputs": [],
   "source": []
  },
  {
   "cell_type": "code",
   "execution_count": null,
   "id": "babf20cf-e48e-48bf-bb3b-4a119fe6e567",
   "metadata": {},
   "outputs": [],
   "source": []
  },
  {
   "cell_type": "code",
   "execution_count": null,
   "id": "843ce7e5-c57e-4c7e-b657-d67aec3041a6",
   "metadata": {},
   "outputs": [],
   "source": []
  },
  {
   "cell_type": "code",
   "execution_count": null,
   "id": "8f1fdadb-abd8-4758-9f73-2fc2cd1109cd",
   "metadata": {},
   "outputs": [],
   "source": []
  },
  {
   "cell_type": "code",
   "execution_count": null,
   "id": "f86caac0-52b0-4650-86e4-c87516ff8435",
   "metadata": {},
   "outputs": [],
   "source": []
  },
  {
   "cell_type": "code",
   "execution_count": null,
   "id": "6a517f37-d1f2-4eaf-bcc6-5ae8f98d73c3",
   "metadata": {},
   "outputs": [],
   "source": []
  },
  {
   "cell_type": "code",
   "execution_count": null,
   "id": "9c8df4d6-7bff-4b27-a96d-a82f9cc5a908",
   "metadata": {},
   "outputs": [],
   "source": []
  },
  {
   "cell_type": "code",
   "execution_count": null,
   "id": "cf264c18-b576-4a07-9c27-c8ed6f1ca8bd",
   "metadata": {},
   "outputs": [],
   "source": []
  },
  {
   "cell_type": "code",
   "execution_count": null,
   "id": "475a7771-975e-4ca7-aef6-0831dca79c57",
   "metadata": {},
   "outputs": [],
   "source": []
  },
  {
   "cell_type": "code",
   "execution_count": null,
   "id": "05511b6a-4211-4b4a-afe8-b083e8ed3230",
   "metadata": {},
   "outputs": [],
   "source": []
  },
  {
   "cell_type": "code",
   "execution_count": null,
   "id": "f9385526-d330-451c-8681-ca3a11b6b814",
   "metadata": {},
   "outputs": [],
   "source": []
  },
  {
   "cell_type": "code",
   "execution_count": null,
   "id": "ffcfd566-daa0-4951-a48d-2234ad1b6141",
   "metadata": {},
   "outputs": [],
   "source": []
  },
  {
   "cell_type": "code",
   "execution_count": null,
   "id": "9fa1f070-abda-41c6-b147-07972f17ea28",
   "metadata": {},
   "outputs": [],
   "source": []
  },
  {
   "cell_type": "code",
   "execution_count": null,
   "id": "03291f82-18e8-4a28-8f04-3489a38c36b6",
   "metadata": {},
   "outputs": [],
   "source": []
  },
  {
   "cell_type": "code",
   "execution_count": null,
   "id": "dcb51c17-0051-46ba-8570-7f544c642477",
   "metadata": {},
   "outputs": [],
   "source": []
  },
  {
   "cell_type": "code",
   "execution_count": null,
   "id": "ae7537c3-2b7d-4f10-85a1-c327bc1a41e5",
   "metadata": {},
   "outputs": [],
   "source": []
  },
  {
   "cell_type": "code",
   "execution_count": null,
   "id": "c48d25c0-2944-49cd-af13-4d8c35c29605",
   "metadata": {},
   "outputs": [],
   "source": []
  },
  {
   "cell_type": "code",
   "execution_count": null,
   "id": "7731bd4c-cdfd-4104-a954-5b6324500acf",
   "metadata": {},
   "outputs": [],
   "source": []
  },
  {
   "cell_type": "code",
   "execution_count": null,
   "id": "f5792786-0ef7-4888-9012-38b632bfa295",
   "metadata": {},
   "outputs": [],
   "source": []
  },
  {
   "cell_type": "code",
   "execution_count": null,
   "id": "de3b40b9-045a-44be-9b5b-34f3254e6ccf",
   "metadata": {},
   "outputs": [],
   "source": []
  },
  {
   "cell_type": "code",
   "execution_count": null,
   "id": "265832f0-af9c-4473-a2de-40afe2548508",
   "metadata": {},
   "outputs": [],
   "source": []
  },
  {
   "cell_type": "code",
   "execution_count": null,
   "id": "5f7e7d43-9436-4673-b99b-ac64114ec49b",
   "metadata": {},
   "outputs": [],
   "source": []
  },
  {
   "cell_type": "code",
   "execution_count": null,
   "id": "1b38d14a-6fcb-457e-978d-da32fe8e1808",
   "metadata": {},
   "outputs": [],
   "source": []
  },
  {
   "cell_type": "code",
   "execution_count": null,
   "id": "8bd4c8a4-66ed-47e6-b807-7c49ce49aaf8",
   "metadata": {},
   "outputs": [],
   "source": []
  }
 ],
 "metadata": {
  "kernelspec": {
   "display_name": "Python 3 (ipykernel)",
   "language": "python",
   "name": "python3"
  },
  "language_info": {
   "codemirror_mode": {
    "name": "ipython",
    "version": 3
   },
   "file_extension": ".py",
   "mimetype": "text/x-python",
   "name": "python",
   "nbconvert_exporter": "python",
   "pygments_lexer": "ipython3",
   "version": "3.12.7"
  }
 },
 "nbformat": 4,
 "nbformat_minor": 5
}
