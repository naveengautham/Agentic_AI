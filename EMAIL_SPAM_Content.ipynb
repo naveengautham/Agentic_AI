{
 "cells": [
  {
   "cell_type": "code",
   "execution_count": 1,
   "id": "8cf2ee6b-6be2-4e29-80f1-521a2d97efa4",
   "metadata": {},
   "outputs": [],
   "source": [
    "from Util import get_openai_api_key\n",
    "OPEN_API_KEY=get_openai_api_key()"
   ]
  },
  {
   "cell_type": "code",
   "execution_count": 2,
   "id": "e9dc2d9a-3fec-410b-ada0-45661029a8ca",
   "metadata": {},
   "outputs": [],
   "source": [
    "llm_config={\n",
    "    \"config_list\":{\n",
    "        \"model\":\"gpt-3.5-turbo\",\n",
    "        \"api_key\":OPEN_API_KEY\n",
    "    }\n",
    "}"
   ]
  },
  {
   "cell_type": "code",
   "execution_count": 5,
   "id": "73c213f1-df1e-46e5-8468-d81f29553b65",
   "metadata": {},
   "outputs": [
    {
     "data": {
      "text/plain": [
       "\" Email_ID             Sender_Email                 Subject                                 Content    Label\\n        1      lottery@fakewin.com        Congratulations!     You've won $10,000. Click to claim!     Spam\\n        2       support@amazon.com            Your receipt   Your Amazon order #12345 has shipped. Verified\\n        3     freegift@scammer.net  Claim your free iPhone                 Only 1 left! Enter now!     Spam\\n        4     updates@linkedin.com  New connection request   You have a new connection from Sarah. Verified\\n        5     offers@cheapmeds.com         Buy meds online              Get Viagra at 90% off now!     Spam\\n        6      no-reply@github.com          Security alert A login was detected from a new device. Verified\\n        7 winbig@casino-online.biz            Win big now!     Deposit now and get 100 free spins!     Spam\\n        8  notifications@slack.com       New message alert You received a new message in #general. Verified\\n        9     info@taxrefundgov.in    Tax refund available    Submit your bank details for refund.     Spam\\n       10    newsletter@medium.com       Top stories today  Here are your daily Medium highlights. Verified\\n       11      urgent@fakenews.net       Account suspended         Act now to avoid losing access!     Spam\\n       12      billing@netflix.com     Your payment is due    Your next billing cycle starts soon. Verified\\n       13    promo@lotto-world.com      Last chance to win       Claim your prize before midnight!     Spam\\n       14             info@zoom.us        Meeting reminder      Your meeting starts in 15 minutes. Verified\\n       15      loan@fastcash.today       Pre-approved loan             Get up to $5,000 instantly!     Spam\\n       16      support@spotify.com          Password reset    Reset your password using this link. Verified\\n       17 cheaptravel@airdealz.com           Flight deals!           Fly to Dubai for just ₹3,999!     Spam\\n       18        info@coursera.org       Course completion You’ve completed your course on Python. Verified\\n       19      bonus@fakecrypto.io Claim your crypto bonus                Get $100 in Bitcoin now!     Spam\\n       20        alerts@icloud.com       New sign-in alert      Your Apple ID was used to sign in. Verified\""
      ]
     },
     "execution_count": 5,
     "metadata": {},
     "output_type": "execute_result"
    }
   ],
   "source": [
    "import pandas as pd\n",
    "\n",
    "classify_data= pd.read_csv(\"email_messages.csv\")\n",
    "new_data=classify_data.to_string(index=False)\n",
    "new_data"
   ]
  },
  {
   "cell_type": "code",
   "execution_count": 8,
   "id": "4f3d72da-1ff8-41b2-b056-522318b23652",
   "metadata": {},
   "outputs": [],
   "source": [
    "from autogen import AssistantAgent\n",
    "\n",
    "email_detector_agent=AssistantAgent(\n",
    "    name=\"email_detector_agent\",\n",
    "    system_message=f\"\"\" \n",
    "    You are an intelligent data processing assistant. You are given a dataset containing email messages with columns: Email_ID, Sender_Email, Subject, Content, and Label. Your task is to analyze each email and detect whether it is a \"Spam\" or \"Verified\" message based on suspicious keywords or patterns like fake prizes, urgent actions, or offers.\n",
    "\n",
    "    Your primary goal is to filter and return only the rows where the email is classified as \"Verified\" in the Label column. Ignore or discard any row marked as \"Spam\".\n",
    "    \n",
    "    Output only the filtered dataset with the following columns: Email_ID, Sender_Email, Subject, Content, Label.\n",
    "\n",
    "    Hers is the dataset:\n",
    "\n",
    "    {new_data}\n",
    "\n",
    "    \"\"\",\n",
    "    human_input_mode=\"NEVER\",\n",
    "    llm_config=llm_config\n",
    "\n",
    ")"
   ]
  },
  {
   "cell_type": "code",
   "execution_count": 7,
   "id": "41e0320e-ef61-4f5a-b1b4-ef4be585dd82",
   "metadata": {},
   "outputs": [],
   "source": [
    "from autogen import ConversableAgent\n",
    "\n",
    "user_agent=ConversableAgent(\n",
    "    name=\"user_agent\",\n",
    "    human_input_mode=\"NEVER\",\n",
    "    max_consecutive_auto_reply=2\n",
    ")"
   ]
  },
  {
   "cell_type": "code",
   "execution_count": 9,
   "id": "577514bc-cd91-4d62-8a2b-4efea86f3e9c",
   "metadata": {},
   "outputs": [
    {
     "name": "stdout",
     "output_type": "stream",
     "text": [
      "\u001b[33muser_agent\u001b[0m (to email_detector_agent):\n",
      "\n",
      "Display only the filtered rows where the emai is classified as verified\n",
      "\n",
      "--------------------------------------------------------------------------------\n",
      "\u001b[33memail_detector_agent\u001b[0m (to user_agent):\n",
      "\n",
      "Email_ID   Sender_Email         Subject                    Content                                Label\n",
      "   2      support@amazon.com    Your receipt    Your Amazon order #12345 has shipped.      Verified\n",
      "   4      updates@linkedin.com  New connection request    You have a new connection from Sarah.     Verified\n",
      "   6      no-reply@github.com   Security alert   A login was detected from a new device.     Verified\n",
      "   8      notifications@slack.com   New message alert   You received a new message in #general.  Verified\n",
      "   10     newsletter@medium.com  Top stories today    Here are your daily Medium highlights.    Verified\n",
      "   12     billing@netflix.com    Your payment is due  Your next billing cycle starts soon.    Verified\n",
      "   14      info@zoom.us         Meeting reminder     Your meeting starts in 15 minutes.        Verified\n",
      "   16     support@spotify.com   Password reset     Reset your password using this link.      Verified\n",
      "   18      info@coursera.org    Course completion    You’ve completed your course on Python.  Verified\n",
      "   20     alerts@icloud.com     New sign-in alert    Your Apple ID was used to sign in.        Verified\n",
      "\n",
      "--------------------------------------------------------------------------------\n",
      "\u001b[33muser_agent\u001b[0m (to email_detector_agent):\n",
      "\n",
      "\n",
      "\n",
      "--------------------------------------------------------------------------------\n",
      "\u001b[33memail_detector_agent\u001b[0m (to user_agent):\n",
      "\n",
      "Is there anything else you would like assistance with?\n",
      "\n",
      "--------------------------------------------------------------------------------\n",
      "\u001b[33muser_agent\u001b[0m (to email_detector_agent):\n",
      "\n",
      "\n",
      "\n",
      "--------------------------------------------------------------------------------\n",
      "\u001b[33memail_detector_agent\u001b[0m (to user_agent):\n",
      "\n",
      "Feel free to let me know if you have any more questions or need further assistance in the future. Have a great day!\n",
      "\n",
      "--------------------------------------------------------------------------------\n",
      "\u001b[31m\n",
      ">>>>>>>> TERMINATING RUN (16282c04-40a2-416b-b980-14efa89fe615): Maximum number of consecutive auto-replies reached\u001b[0m\n"
     ]
    },
    {
     "data": {
      "text/plain": [
       "ChatResult(chat_id=None, chat_history=[{'content': 'Display only the filtered rows where the emai is classified as verified', 'role': 'assistant', 'name': 'user_agent'}, {'content': 'Email_ID   Sender_Email         Subject                    Content                                Label\\n   2      support@amazon.com    Your receipt    Your Amazon order #12345 has shipped.      Verified\\n   4      updates@linkedin.com  New connection request    You have a new connection from Sarah.     Verified\\n   6      no-reply@github.com   Security alert   A login was detected from a new device.     Verified\\n   8      notifications@slack.com   New message alert   You received a new message in #general.  Verified\\n   10     newsletter@medium.com  Top stories today    Here are your daily Medium highlights.    Verified\\n   12     billing@netflix.com    Your payment is due  Your next billing cycle starts soon.    Verified\\n   14      info@zoom.us         Meeting reminder     Your meeting starts in 15 minutes.        Verified\\n   16     support@spotify.com   Password reset     Reset your password using this link.      Verified\\n   18      info@coursera.org    Course completion    You’ve completed your course on Python.  Verified\\n   20     alerts@icloud.com     New sign-in alert    Your Apple ID was used to sign in.        Verified', 'role': 'user', 'name': 'email_detector_agent'}, {'content': '', 'role': 'assistant', 'name': 'user_agent'}, {'content': 'Is there anything else you would like assistance with?', 'role': 'user', 'name': 'email_detector_agent'}, {'content': '', 'role': 'assistant', 'name': 'user_agent'}, {'content': 'Feel free to let me know if you have any more questions or need further assistance in the future. Have a great day!', 'role': 'user', 'name': 'email_detector_agent'}], summary='Feel free to let me know if you have any more questions or need further assistance in the future. Have a great day!', cost={'usage_including_cached_inference': {'total_cost': 0.0017230000000000001, 'gpt-3.5-turbo-0125': {'cost': 0.0017230000000000001, 'prompt_tokens': 2579, 'completion_tokens': 289, 'total_tokens': 2868}}, 'usage_excluding_cached_inference': {'total_cost': 0.0017230000000000001, 'gpt-3.5-turbo-0125': {'cost': 0.0017230000000000001, 'prompt_tokens': 2579, 'completion_tokens': 289, 'total_tokens': 2868}}}, human_input=[])"
      ]
     },
     "execution_count": 9,
     "metadata": {},
     "output_type": "execute_result"
    }
   ],
   "source": [
    "user_agent.initiate_chat(email_detector_agent,message=\"Display only the filtered rows where the emai is classified as verified\")"
   ]
  },
  {
   "cell_type": "code",
   "execution_count": null,
   "id": "675f0afc-d114-4154-ae25-03e0ee708034",
   "metadata": {},
   "outputs": [],
   "source": []
  }
 ],
 "metadata": {
  "kernelspec": {
   "display_name": "Python 3 (ipykernel)",
   "language": "python",
   "name": "python3"
  },
  "language_info": {
   "codemirror_mode": {
    "name": "ipython",
    "version": 3
   },
   "file_extension": ".py",
   "mimetype": "text/x-python",
   "name": "python",
   "nbconvert_exporter": "python",
   "pygments_lexer": "ipython3",
   "version": "3.12.7"
  }
 },
 "nbformat": 4,
 "nbformat_minor": 5
}
