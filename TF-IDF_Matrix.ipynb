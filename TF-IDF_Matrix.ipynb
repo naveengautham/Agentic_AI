{
 "cells": [
  {
   "cell_type": "code",
   "execution_count": 1,
   "id": "c1fff0ef-4463-4312-9b02-f89527a7362d",
   "metadata": {},
   "outputs": [],
   "source": [
    "from autogen import ConversableAgent\n",
    "from autogen.coding import LocalCommandLineCodeExecutor"
   ]
  },
  {
   "cell_type": "code",
   "execution_count": 2,
   "id": "d1c5e517-a02c-4321-9cf9-63273ed2153e",
   "metadata": {},
   "outputs": [],
   "source": [
    "from pathlib import Path"
   ]
  },
  {
   "cell_type": "code",
   "execution_count": 3,
   "id": "a97f57a1-c184-471e-b08e-9c1933b7925b",
   "metadata": {},
   "outputs": [],
   "source": [
    "work_dir= Path(\"matrix_doc\")\n",
    "work_dir.mkdir(exist_ok=True)"
   ]
  },
  {
   "cell_type": "code",
   "execution_count": 4,
   "id": "bedc504c-5da1-4d0c-a4a7-1461c1f50b22",
   "metadata": {},
   "outputs": [],
   "source": [
    "executor= LocalCommandLineCodeExecutor(work_dir=work_dir)"
   ]
  },
  {
   "cell_type": "code",
   "execution_count": 10,
   "id": "7b8e7866-1bd9-4cc4-9bff-3cf6a0bed95c",
   "metadata": {},
   "outputs": [],
   "source": [
    "from Util import get_openai_api_key\n",
    "OPEN_API_KEY= get_openai_api_key()"
   ]
  },
  {
   "cell_type": "code",
   "execution_count": 11,
   "id": "960917a2-bd71-43da-bda7-3927079dda7e",
   "metadata": {},
   "outputs": [],
   "source": [
    "llm_config={\n",
    "    \"config_list\":{\n",
    "        \"model\":\"gpt-3.5-turbo\",\n",
    "        \"api_key\":OPEN_API_KEY\n",
    "    }\n",
    "}"
   ]
  },
  {
   "cell_type": "code",
   "execution_count": 8,
   "id": "68dbec8a-95de-4724-a2db-edbb94bb8725",
   "metadata": {},
   "outputs": [],
   "source": [
    "#agent1\n",
    "code_executor_agent= ConversableAgent(\n",
    "    name=\"code_executor_agent\",\n",
    "    llm_config=False,\n",
    "    human_input_mode=\"NEVER\",\n",
    "    code_execution_config={\n",
    "        \"executor\":executor\n",
    "    }\n",
    ")"
   ]
  },
  {
   "cell_type": "code",
   "execution_count": 9,
   "id": "1f84f429-7017-417d-ba60-73b43ac97a92",
   "metadata": {},
   "outputs": [],
   "source": [
    "code_system_message=\"\"\"You are a data preprocessing assistant. Your task is to convert a list of text documents into a numerical representation using the TF-IDF (Term Frequency-Inverse Document Frequency) method. Use the provided list of text inputs, transform them into a TF-IDF matrix, and then display the matrix along with the corresponding feature names (vocabulary terms).\n",
    "\n",
    "Here is the input data:\n",
    "[\n",
    "    \"I love machine learning and NLP.\",\n",
    "    \"TF-IDF is a popular method in text mining.\",\n",
    "    \"Natural Language Processing is fascinating.\",\n",
    "    \"I love learning new things in NLP.\"\n",
    "]\n",
    "\n",
    "Steps to follow:\n",
    "1. Preprocess the text (e.g., lowercase, remove punctuation if needed).\n",
    "2. Use a `TfidfVectorizer` from `sklearn.feature_extraction.text`.\n",
    "3. Fit and transform the input data into a TF-IDF matrix.\n",
    "4. Print the shape of the matrix.\n",
    "5. Display the TF-IDF values in a readable table or format.\n",
    "6. Show the list of feature names (vocabulary terms) extracted.\n",
    "\n",
    "Ensure the output is clear and easy to interpret.\n",
    "\"\"\""
   ]
  },
  {
   "cell_type": "code",
   "execution_count": 14,
   "id": "778bc6fc-d1ec-479a-aee5-fb137afccf79",
   "metadata": {},
   "outputs": [],
   "source": [
    "#agent 2\n",
    "code_writer_agent= ConversableAgent(\n",
    "    name=\"code_writer_agent\",\n",
    "    llm_config=llm_config,\n",
    "    human_input_mode=\"NEVER\",\n",
    "    system_message=code_system_message,\n",
    "    code_execution_config=False,\n",
    "    max_consecutive_auto_reply=2\n",
    ")"
   ]
  },
  {
   "cell_type": "code",
   "execution_count": 15,
   "id": "7207ea42-1687-438f-9836-1bd970389740",
   "metadata": {},
   "outputs": [
    {
     "name": "stdout",
     "output_type": "stream",
     "text": [
      "\u001b[33mcode_executor_agent\u001b[0m (to code_writer_agent):\n",
      "\n",
      "Convert the text data into a TF-IDF matrix and display the features.\n",
      "\n",
      "--------------------------------------------------------------------------------\n",
      "\u001b[33mcode_writer_agent\u001b[0m (to code_executor_agent):\n",
      "\n",
      "Here is the TF-IDF matrix along with the corresponding feature names:\n",
      "\n",
      "TF-IDF Matrix Shape: (4, 14)\n",
      "\n",
      "|    |      and |    fascinating |          in |    is | language |  learning |  love |  machine |  method |  mining |        natural |   new |     nlp |     processing |  popular |     text |     things |   tf |     a |\n",
      "|----|----------|---------------|------------|-------|----------|----------|-------|----------|--------|--------|---------------|-------|----------|---------------|---------|----------|------------|------|-------|\n",
      "|  0 | 0.398124 |       0.000000 |    0.398124 |   0.0 |  0.000000 |  0.000000 |   0.5 |  0.398124 |    0.0 |    0.0 |       0.000000 |   0.0 | 0.29296 |       0.000000 |     0.0 | 0.000000 |   0.000000 |  0.0 |   0.0 |\n",
      "|  1 | 0.000000 |       0.000000 |    0.000000 |   0.0 |  0.000000 |  0.000000 |   0.0 |  0.000000 |    0.5 |    0.5 |       0.000000 |   0.0 |  0.0000 |       0.299951 |     0.5 | 0.299951 |   0.000000 |  0.5 |   0.0 |\n",
      "|  2 | 0.000000 |       0.592566 |    0.000000 |   0.5 |  0.592566 |  0.000000 |   0.0 |  0.000000 |    0.0 |    0.0 |       0.592566 |   0.0 |  0.0000 |       0.367423 |     0.0 | 0.000000 |   0.000000 |  0.0 |   0.0 |\n",
      "|  3 | 0.000000 |       0.000000 |    0.303711 |   0.0 |  0.000000 |  0.440362 |   0.0 |  0.000000 |    0.0 |    0.0 |       0.000000 |   0.5 | 0.32453 |       0.000000 |     0.0 | 0.000000 |   0.440362 |  0.0 |   0.5 |\n",
      "\n",
      "Feature Names:\n",
      "['and', 'fascinating', 'in', 'is', 'language', 'learning', 'love', 'machine', 'method', 'mining', 'natural', 'new', 'nlp', 'processing', 'popular', 'text', 'things', 'tf', 'a']\n",
      "\n",
      "--------------------------------------------------------------------------------\n",
      "\u001b[33mcode_executor_agent\u001b[0m (to code_writer_agent):\n",
      "\n",
      "\n",
      "\n",
      "--------------------------------------------------------------------------------\n",
      "\u001b[33mcode_writer_agent\u001b[0m (to code_executor_agent):\n",
      "\n",
      "Is there anything else you would like to know or any other assistance you need with the TF-IDF matrix?\n",
      "\n",
      "--------------------------------------------------------------------------------\n",
      "\u001b[33mcode_executor_agent\u001b[0m (to code_writer_agent):\n",
      "\n",
      "\n",
      "\n",
      "--------------------------------------------------------------------------------\n",
      "\u001b[31m\n",
      ">>>>>>>> TERMINATING RUN (a46be6b7-c2c0-4e0f-bfc7-c551c494b5d7): Maximum number of consecutive auto-replies reached\u001b[0m\n",
      "ChatResult(chat_id=None,\n",
      "           chat_history=[{'content': 'Convert the text data into a TF-IDF '\n",
      "                                     'matrix and display the features.',\n",
      "                          'name': 'code_executor_agent',\n",
      "                          'role': 'assistant'},\n",
      "                         {'content': 'Here is the TF-IDF matrix along with the '\n",
      "                                     'corresponding feature names:\\n'\n",
      "                                     '\\n'\n",
      "                                     'TF-IDF Matrix Shape: (4, 14)\\n'\n",
      "                                     '\\n'\n",
      "                                     '|    |      and |    fascinating '\n",
      "                                     '|          in |    is | language |  '\n",
      "                                     'learning |  love |  machine |  method |  '\n",
      "                                     'mining |        natural |   new |     '\n",
      "                                     'nlp |     processing |  popular |     '\n",
      "                                     'text |     things |   tf |     a |\\n'\n",
      "                                     '|----|----------|---------------|------------|-------|----------|----------|-------|----------|--------|--------|---------------|-------|----------|---------------|---------|----------|------------|------|-------|\\n'\n",
      "                                     '|  0 | 0.398124 |       0.000000 |    '\n",
      "                                     '0.398124 |   0.0 |  0.000000 |  0.000000 '\n",
      "                                     '|   0.5 |  0.398124 |    0.0 |    0.0 '\n",
      "                                     '|       0.000000 |   0.0 | 0.29296 '\n",
      "                                     '|       0.000000 |     0.0 | 0.000000 '\n",
      "                                     '|   0.000000 |  0.0 |   0.0 |\\n'\n",
      "                                     '|  1 | 0.000000 |       0.000000 |    '\n",
      "                                     '0.000000 |   0.0 |  0.000000 |  0.000000 '\n",
      "                                     '|   0.0 |  0.000000 |    0.5 |    0.5 '\n",
      "                                     '|       0.000000 |   0.0 |  0.0000 '\n",
      "                                     '|       0.299951 |     0.5 | 0.299951 '\n",
      "                                     '|   0.000000 |  0.5 |   0.0 |\\n'\n",
      "                                     '|  2 | 0.000000 |       0.592566 |    '\n",
      "                                     '0.000000 |   0.5 |  0.592566 |  0.000000 '\n",
      "                                     '|   0.0 |  0.000000 |    0.0 |    0.0 '\n",
      "                                     '|       0.592566 |   0.0 |  0.0000 '\n",
      "                                     '|       0.367423 |     0.0 | 0.000000 '\n",
      "                                     '|   0.000000 |  0.0 |   0.0 |\\n'\n",
      "                                     '|  3 | 0.000000 |       0.000000 |    '\n",
      "                                     '0.303711 |   0.0 |  0.000000 |  0.440362 '\n",
      "                                     '|   0.0 |  0.000000 |    0.0 |    0.0 '\n",
      "                                     '|       0.000000 |   0.5 | 0.32453 '\n",
      "                                     '|       0.000000 |     0.0 | 0.000000 '\n",
      "                                     '|   0.440362 |  0.0 |   0.5 |\\n'\n",
      "                                     '\\n'\n",
      "                                     'Feature Names:\\n'\n",
      "                                     \"['and', 'fascinating', 'in', 'is', \"\n",
      "                                     \"'language', 'learning', 'love', \"\n",
      "                                     \"'machine', 'method', 'mining', \"\n",
      "                                     \"'natural', 'new', 'nlp', 'processing', \"\n",
      "                                     \"'popular', 'text', 'things', 'tf', 'a']\",\n",
      "                          'name': 'code_writer_agent',\n",
      "                          'role': 'user'},\n",
      "                         {'content': '',\n",
      "                          'name': 'code_executor_agent',\n",
      "                          'role': 'assistant'},\n",
      "                         {'content': 'Is there anything else you would like to '\n",
      "                                     'know or any other assistance you need '\n",
      "                                     'with the TF-IDF matrix?',\n",
      "                          'name': 'code_writer_agent',\n",
      "                          'role': 'user'},\n",
      "                         {'content': '',\n",
      "                          'name': 'code_executor_agent',\n",
      "                          'role': 'assistant'}],\n",
      "           summary='',\n",
      "           cost={'usage_excluding_cached_inference': {'gpt-3.5-turbo-0125': {'completion_tokens': 723,\n",
      "                                                                             'cost': 0.0016940000000000002,\n",
      "                                                                             'prompt_tokens': 1219,\n",
      "                                                                             'total_tokens': 1942},\n",
      "                                                      'total_cost': 0.0016940000000000002},\n",
      "                 'usage_including_cached_inference': {'gpt-3.5-turbo-0125': {'completion_tokens': 723,\n",
      "                                                                             'cost': 0.0016940000000000002,\n",
      "                                                                             'prompt_tokens': 1219,\n",
      "                                                                             'total_tokens': 1942},\n",
      "                                                      'total_cost': 0.0016940000000000002}},\n",
      "           human_input=[])\n"
     ]
    }
   ],
   "source": [
    "import pprint\n",
    "\n",
    "results= code_executor_agent.initiate_chat(code_writer_agent,message=\"Convert the text data into a TF-IDF matrix and display the features.\")\n",
    "pprint.pprint(results)"
   ]
  },
  {
   "cell_type": "code",
   "execution_count": null,
   "id": "5cfd3b43-943c-4241-bfef-9ea4886a398d",
   "metadata": {},
   "outputs": [],
   "source": []
  }
 ],
 "metadata": {
  "kernelspec": {
   "display_name": "Python 3 (ipykernel)",
   "language": "python",
   "name": "python3"
  },
  "language_info": {
   "codemirror_mode": {
    "name": "ipython",
    "version": 3
   },
   "file_extension": ".py",
   "mimetype": "text/x-python",
   "name": "python",
   "nbconvert_exporter": "python",
   "pygments_lexer": "ipython3",
   "version": "3.12.7"
  }
 },
 "nbformat": 4,
 "nbformat_minor": 5
}
