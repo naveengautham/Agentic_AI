{
 "cells": [
  {
   "cell_type": "code",
   "execution_count": 1,
   "id": "1ac1a112-557e-415b-ba47-e66b62959a1c",
   "metadata": {},
   "outputs": [],
   "source": [
    "from autogen import AssistantAgent\n",
    "from autogen.agentchat.contrib.retrieve_user_proxy_agent import RetrieveUserProxyAgent"
   ]
  },
  {
   "cell_type": "code",
   "execution_count": 2,
   "id": "98d47e75-50a1-4844-95b1-d257caa14945",
   "metadata": {},
   "outputs": [],
   "source": [
    "from Util import get_openai_api_key\n",
    "OPEN_API_KEY= get_openai_api_key()"
   ]
  },
  {
   "cell_type": "code",
   "execution_count": 3,
   "id": "ed0544ed-19d5-4ea1-a54d-928d4b1b883c",
   "metadata": {},
   "outputs": [],
   "source": [
    "llm_config={\n",
    "    \"config_list\":{\n",
    "        \"model\":\"gpt-3.5-turbo\",\n",
    "        \"api_key\":OPEN_API_KEY\n",
    "    }\n",
    "}"
   ]
  },
  {
   "cell_type": "code",
   "execution_count": 5,
   "id": "fef67dc7-80f0-40ca-9f19-e546cd83f088",
   "metadata": {},
   "outputs": [],
   "source": [
    "import pandas as pd\n",
    "df= pd.read_csv(\"50_Startups.csv\")"
   ]
  },
  {
   "cell_type": "code",
   "execution_count": 45,
   "id": "3a2ca9bf-7b54-45c1-9e09-cf5b66465cff",
   "metadata": {},
   "outputs": [],
   "source": [
    "converted_dataset= df.to_string(index=False)"
   ]
  },
  {
   "cell_type": "code",
   "execution_count": 46,
   "id": "4f01cd5f-e82e-4e2c-89e7-53cf96dc4513",
   "metadata": {},
   "outputs": [
    {
     "data": {
      "text/plain": [
       "' R&D Spend  Administration  Marketing Spend      State    Profit\\n 165349.20       136897.80        471784.10   New York 192261.83\\n 162597.70       151377.59        443898.53 California 191792.06\\n 153441.51       101145.55        407934.54    Florida 191050.39\\n 144372.41       118671.85        383199.62   New York 182901.99\\n 142107.34        91391.77        366168.42    Florida 166187.94\\n 131876.90        99814.71        362861.36   New York 156991.12\\n 134615.46       147198.87        127716.82 California 156122.51\\n 130298.13       145530.06        323876.68    Florida 155752.60\\n 120542.52       148718.95        311613.29   New York 152211.77\\n 123334.88       108679.17        304981.62 California 149759.96\\n 101913.08       110594.11        229160.95    Florida 146121.95\\n 100671.96        91790.61        249744.55 California 144259.40\\n  93863.75       127320.38        249839.44    Florida 141585.52\\n  91992.39       135495.07        252664.93 California 134307.35\\n 119943.24       156547.42        256512.92    Florida 132602.65\\n 114523.61       122616.84        261776.23   New York 129917.04\\n  78013.11       121597.55        264346.06 California 126992.93\\n  94657.16       145077.58        282574.31   New York 125370.37\\n  91749.16       114175.79        294919.57    Florida 124266.90\\n  86419.70       153514.11             0.00   New York 122776.86\\n  76253.86       113867.30        298664.47 California 118474.03\\n  78389.47       153773.43        299737.29   New York 111313.02\\n  73994.56       122782.75        303319.26    Florida 110352.25\\n  67532.53       105751.03        304768.73    Florida 108733.99\\n  77044.01        99281.34        140574.81   New York 108552.04\\n  64664.71       139553.16        137962.62 California 107404.34\\n  75328.87       144135.98        134050.07    Florida 105733.54\\n  72107.60       127864.55        353183.81   New York 105008.31\\n  66051.52       182645.56        118148.20    Florida 103282.38\\n  65605.48       153032.06        107138.38   New York 101004.64\\n  61994.48       115641.28         91131.24    Florida  99937.59\\n  61136.38       152701.92         88218.23   New York  97483.56\\n  63408.86       129219.61         46085.25 California  97427.84\\n  55493.95       103057.49        214634.81    Florida  96778.92\\n  46426.07       157693.92        210797.67 California  96712.80\\n  46014.02        85047.44        205517.64   New York  96479.51\\n  28663.76       127056.21        201126.82    Florida  90708.19\\n  44069.95        51283.14        197029.42 California  89949.14\\n  20229.59        65947.93        185265.10   New York  81229.06\\n  38558.51        82982.09        174999.30 California  81005.76\\n  28754.33       118546.05        172795.67 California  78239.91\\n  27892.92        84710.77        164470.71    Florida  77798.83\\n  23640.93        96189.63        148001.11 California  71498.49\\n  15505.73       127382.30         35534.17   New York  69758.98\\n  22177.74       154806.14         28334.72 California  65200.33\\n   1000.23       124153.04          1903.93   New York  64926.08\\n   1315.46       115816.21        297114.46    Florida  49490.75\\n      0.00       135426.92             0.00 California  42559.73\\n    542.05        51743.15             0.00   New York  35673.41\\n      0.00       116983.80         45173.06 California  14681.40'"
      ]
     },
     "execution_count": 46,
     "metadata": {},
     "output_type": "execute_result"
    }
   ],
   "source": [
    "converted_dataset"
   ]
  },
  {
   "cell_type": "code",
   "execution_count": 47,
   "id": "14fbb0fb-cb10-404a-ae64-0cc0531e8910",
   "metadata": {},
   "outputs": [],
   "source": [
    "from autogen import AssistantAgent\n",
    "\n",
    "assistant_agent=AssistantAgent(\n",
    "    name=\"assistant_agent\",\n",
    "    llm_config=llm_config,\n",
    "    human_input_mode=\"NEVER\",\n",
    "    system_message=f\"\"\"\n",
    "    You are a helpful data assistant.\n",
    "Your task is to analyze a table of data provided to you and display results sorted by profit in descending order.\n",
    "\n",
    "Instructions:\n",
    "\n",
    "Read the data carefully (assume it contains a profit column).\n",
    "\n",
    "Sort the rows in descending order by the profit value.\n",
    "\n",
    "Return only the sorted table (no explanations, no markdown).\n",
    "\n",
    "Maintain all original columns in the result.\n",
    "\n",
    "Here is the dataset:\n",
    "\n",
    "{converted_dataset}\n",
    "\n",
    "    \"\"\"\n",
    ")"
   ]
  },
  {
   "cell_type": "code",
   "execution_count": 49,
   "id": "5d5f4275-00e1-4d32-8d68-275636c9050a",
   "metadata": {},
   "outputs": [],
   "source": [
    "from autogen import ConversableAgent\n",
    "\n",
    "user_agent= ConversableAgent(\n",
    "    name=\"user_agent\",\n",
    "    human_input_mode=\"NEVER\",\n",
    "    max_consecutive_auto_reply=3,\n",
    "    code_execution_config={\n",
    "        \"use_docker\":False\n",
    "    }\n",
    ")"
   ]
  },
  {
   "cell_type": "code",
   "execution_count": 51,
   "id": "d7d6f283-f705-4a08-a680-b734ed9575ce",
   "metadata": {},
   "outputs": [
    {
     "name": "stdout",
     "output_type": "stream",
     "text": [
      "\u001b[33muser_agent\u001b[0m (to assistant_agent):\n",
      "\n",
      "Display the top 5 profit rows\n",
      "\n",
      "--------------------------------------------------------------------------------\n",
      "\u001b[33massistant_agent\u001b[0m (to user_agent):\n",
      "\n",
      "165349.20       136897.80        471784.10   New York 192261.83\n",
      "162597.70       151377.59        443898.53 California 191792.06\n",
      "153441.51       101145.55        407934.54    Florida 191050.39\n",
      "144372.41       118671.85        383199.62   New York 182901.99\n",
      "142107.34        91391.77        366168.42    Florida 166187.94\n",
      "\n",
      "--------------------------------------------------------------------------------\n",
      "\u001b[33muser_agent\u001b[0m (to assistant_agent):\n",
      "\n",
      "\n",
      "\n",
      "--------------------------------------------------------------------------------\n",
      "\u001b[33massistant_agent\u001b[0m (to user_agent):\n",
      "\n",
      "165349.20       136897.80        471784.10   New York 192261.83\n",
      "162597.70       151377.59        443898.53 California 191792.06\n",
      "153441.51       101145.55        407934.54    Florida 191050.39\n",
      "144372.41       118671.85        383199.62   New York 182901.99\n",
      "142107.34        91391.77        366168.42    Florida 166187.94\n",
      "\n",
      "--------------------------------------------------------------------------------\n",
      "\u001b[33muser_agent\u001b[0m (to assistant_agent):\n",
      "\n",
      "\n",
      "\n",
      "--------------------------------------------------------------------------------\n",
      "\u001b[33massistant_agent\u001b[0m (to user_agent):\n",
      "\n",
      "165349.20       136897.80        471784.10   New York 192261.83\n",
      "162597.70       151377.59        443898.53 California 191792.06\n",
      "153441.51       101145.55        407934.54    Florida 191050.39\n",
      "144372.41       118671.85        383199.62   New York 182901.99\n",
      "142107.34        91391.77        366168.42    Florida 166187.94\n",
      "\n",
      "--------------------------------------------------------------------------------\n",
      "\u001b[33muser_agent\u001b[0m (to assistant_agent):\n",
      "\n",
      "\n",
      "\n",
      "--------------------------------------------------------------------------------\n",
      "\u001b[33massistant_agent\u001b[0m (to user_agent):\n",
      "\n",
      "165349.20       136897.80        471784.10   New York 192261.83\n",
      "162597.70       151377.59        443898.53 California 191792.06\n",
      "153441.51       101145.55        407934.54    Florida 191050.39\n",
      "144372.41       118671.85        383199.62   New York 182901.99\n",
      "142107.34        91391.77        366168.42    Florida 166187.94\n",
      "\n",
      "--------------------------------------------------------------------------------\n",
      "\u001b[31m\n",
      ">>>>>>>> TERMINATING RUN (53a5bfbe-1335-4b08-8fe8-c5ad20bb4b0f): Maximum number of consecutive auto-replies reached\u001b[0m\n"
     ]
    },
    {
     "data": {
      "text/plain": [
       "ChatResult(chat_id=None, chat_history=[{'content': 'Display the top 5 profit rows', 'role': 'assistant', 'name': 'user_agent'}, {'content': '165349.20       136897.80        471784.10   New York 192261.83\\n162597.70       151377.59        443898.53 California 191792.06\\n153441.51       101145.55        407934.54    Florida 191050.39\\n144372.41       118671.85        383199.62   New York 182901.99\\n142107.34        91391.77        366168.42    Florida 166187.94', 'role': 'user', 'name': 'assistant_agent'}, {'content': '', 'role': 'assistant', 'name': 'user_agent'}, {'content': '165349.20       136897.80        471784.10   New York 192261.83\\n162597.70       151377.59        443898.53 California 191792.06\\n153441.51       101145.55        407934.54    Florida 191050.39\\n144372.41       118671.85        383199.62   New York 182901.99\\n142107.34        91391.77        366168.42    Florida 166187.94', 'role': 'user', 'name': 'assistant_agent'}, {'content': '', 'role': 'assistant', 'name': 'user_agent'}, {'content': '165349.20       136897.80        471784.10   New York 192261.83\\n162597.70       151377.59        443898.53 California 191792.06\\n153441.51       101145.55        407934.54    Florida 191050.39\\n144372.41       118671.85        383199.62   New York 182901.99\\n142107.34        91391.77        366168.42    Florida 166187.94', 'role': 'user', 'name': 'assistant_agent'}, {'content': '', 'role': 'assistant', 'name': 'user_agent'}, {'content': '165349.20       136897.80        471784.10   New York 192261.83\\n162597.70       151377.59        443898.53 California 191792.06\\n153441.51       101145.55        407934.54    Florida 191050.39\\n144372.41       118671.85        383199.62   New York 182901.99\\n142107.34        91391.77        366168.42    Florida 166187.94', 'role': 'user', 'name': 'assistant_agent'}], summary='165349.20       136897.80        471784.10   New York 192261.83\\n162597.70       151377.59        443898.53 California 191792.06\\n153441.51       101145.55        407934.54    Florida 191050.39\\n144372.41       118671.85        383199.62   New York 182901.99\\n142107.34        91391.77        366168.42    Florida 166187.94', cost={'usage_including_cached_inference': {'total_cost': 0.010988999999999999, 'gpt-3.5-turbo-0125': {'cost': 0.010988999999999999, 'prompt_tokens': 14964, 'completion_tokens': 2338, 'total_tokens': 17302}}, 'usage_excluding_cached_inference': {'total_cost': 0.010988999999999999, 'gpt-3.5-turbo-0125': {'cost': 0.010988999999999999, 'prompt_tokens': 14964, 'completion_tokens': 2338, 'total_tokens': 17302}}}, human_input=[])"
      ]
     },
     "execution_count": 51,
     "metadata": {},
     "output_type": "execute_result"
    }
   ],
   "source": [
    "user_agent.initiate_chat(assistant_agent,message=\"Display the top 5 profit rows\")"
   ]
  },
  {
   "cell_type": "code",
   "execution_count": null,
   "id": "432069fd-bef7-4b8c-9731-55e54d1c9bfa",
   "metadata": {},
   "outputs": [],
   "source": []
  },
  {
   "cell_type": "code",
   "execution_count": null,
   "id": "f7b5d890-e518-43db-ac1c-3dd51d9e889a",
   "metadata": {},
   "outputs": [],
   "source": []
  },
  {
   "cell_type": "code",
   "execution_count": null,
   "id": "69983918-0324-4e4c-b22f-984e80ab48e5",
   "metadata": {},
   "outputs": [],
   "source": []
  },
  {
   "cell_type": "code",
   "execution_count": null,
   "id": "f5c5af8e-f3dc-4e47-aaaf-6d2e5e31b618",
   "metadata": {},
   "outputs": [],
   "source": []
  },
  {
   "cell_type": "code",
   "execution_count": null,
   "id": "debfdfaf-78cd-42cc-b138-2798b5da6641",
   "metadata": {},
   "outputs": [],
   "source": []
  },
  {
   "cell_type": "code",
   "execution_count": null,
   "id": "f16c20ec-ec25-4180-8ab1-b1d8531d6f04",
   "metadata": {},
   "outputs": [],
   "source": []
  },
  {
   "cell_type": "code",
   "execution_count": null,
   "id": "66d8a175-a326-4848-b6f3-b204c17c58bf",
   "metadata": {},
   "outputs": [],
   "source": []
  },
  {
   "cell_type": "code",
   "execution_count": null,
   "id": "3fc1bd57-e6aa-43ee-8898-e196383d4556",
   "metadata": {},
   "outputs": [],
   "source": []
  },
  {
   "cell_type": "code",
   "execution_count": null,
   "id": "1379035b-c1d1-4e2b-98a5-d3e5ee4591b3",
   "metadata": {},
   "outputs": [],
   "source": []
  },
  {
   "cell_type": "code",
   "execution_count": null,
   "id": "48fc4071-aed4-40b5-9b0b-43badefad7c2",
   "metadata": {},
   "outputs": [],
   "source": []
  },
  {
   "cell_type": "code",
   "execution_count": null,
   "id": "61e5e7f2-dc6d-4149-956d-eab9784c9f8e",
   "metadata": {},
   "outputs": [],
   "source": []
  },
  {
   "cell_type": "code",
   "execution_count": null,
   "id": "1fa1e842-99c9-4d54-9ac5-9ee52e41d8ce",
   "metadata": {},
   "outputs": [],
   "source": []
  },
  {
   "cell_type": "code",
   "execution_count": null,
   "id": "150cf213-ca4e-41d4-84ad-6fd3714b2dcc",
   "metadata": {},
   "outputs": [],
   "source": []
  },
  {
   "cell_type": "code",
   "execution_count": null,
   "id": "6817e85f-c3b9-44ca-a164-bb8c0dbf411c",
   "metadata": {},
   "outputs": [],
   "source": []
  },
  {
   "cell_type": "code",
   "execution_count": null,
   "id": "9d7985f8-33a7-425f-a392-812908baae81",
   "metadata": {},
   "outputs": [],
   "source": []
  },
  {
   "cell_type": "code",
   "execution_count": null,
   "id": "242247c8-2935-41af-b300-081a3b2cd261",
   "metadata": {},
   "outputs": [],
   "source": []
  },
  {
   "cell_type": "code",
   "execution_count": null,
   "id": "3150958e-8fd1-49c5-a5e9-e3a57f374fc0",
   "metadata": {},
   "outputs": [],
   "source": []
  },
  {
   "cell_type": "code",
   "execution_count": null,
   "id": "f2e6ee20-220b-4b9b-a88e-ce4395520ff1",
   "metadata": {},
   "outputs": [],
   "source": []
  },
  {
   "cell_type": "code",
   "execution_count": null,
   "id": "955d54f0-f3dd-4b92-8831-504ab7c2f802",
   "metadata": {},
   "outputs": [],
   "source": []
  },
  {
   "cell_type": "code",
   "execution_count": null,
   "id": "6eabb878-0a18-4c4a-8aeb-8810e618e607",
   "metadata": {},
   "outputs": [],
   "source": []
  },
  {
   "cell_type": "code",
   "execution_count": null,
   "id": "03216ef6-51ab-4daa-858c-88fd2866b718",
   "metadata": {},
   "outputs": [],
   "source": []
  },
  {
   "cell_type": "code",
   "execution_count": 32,
   "id": "e9391335-f680-4109-b3c6-cb039133878c",
   "metadata": {},
   "outputs": [],
   "source": [
    "with open(\"50_Startups.csv\",\"r\") as file:\n",
    "    csv_format=file.read()"
   ]
  },
  {
   "cell_type": "code",
   "execution_count": 33,
   "id": "8387783e-cbf7-4df7-8b14-001c59081e4e",
   "metadata": {},
   "outputs": [],
   "source": [
    "class FileReadingUserProxy(RetrieveUserProxyAgent):\n",
    "    def retrieve_user_input(self,prompt=None):\n",
    "        return \"Here is the dataset:\\n\" +csv_format"
   ]
  },
  {
   "cell_type": "code",
   "execution_count": 28,
   "id": "6696725c-ce23-4b0e-992b-b5a6228a6564",
   "metadata": {},
   "outputs": [
    {
     "data": {
      "text/plain": [
       "'R&D Spend,Administration,Marketing Spend,State,Profit\\n165349.2,136897.8,471784.1,New York,192261.83\\n162597.7,151377.59,443898.53,California,191792.06\\n153441.51,101145.55,407934.54,Florida,191050.39\\n144372.41,118671.85,383199.62,New York,182901.99\\n142107.34,91391.77,366168.42,Florida,166187.94\\n131876.9,99814.71,362861.36,New York,156991.12\\n134615.46,147198.87,127716.82,California,156122.51\\n130298.13,145530.06,323876.68,Florida,155752.6\\n120542.52,148718.95,311613.29,New York,152211.77\\n123334.88,108679.17,304981.62,California,149759.96\\n101913.08,110594.11,229160.95,Florida,146121.95\\n100671.96,91790.61,249744.55,California,144259.4\\n93863.75,127320.38,249839.44,Florida,141585.52\\n91992.39,135495.07,252664.93,California,134307.35\\n119943.24,156547.42,256512.92,Florida,132602.65\\n114523.61,122616.84,261776.23,New York,129917.04\\n78013.11,121597.55,264346.06,California,126992.93\\n94657.16,145077.58,282574.31,New York,125370.37\\n91749.16,114175.79,294919.57,Florida,124266.9\\n86419.7,153514.11,0.0,New York,122776.86\\n76253.86,113867.3,298664.47,California,118474.03\\n78389.47,153773.43,299737.29,New York,111313.02\\n73994.56,122782.75,303319.26,Florida,110352.25\\n67532.53,105751.03,304768.73,Florida,108733.99\\n77044.01,99281.34,140574.81,New York,108552.04\\n64664.71,139553.16,137962.62,California,107404.34\\n75328.87,144135.98,134050.07,Florida,105733.54\\n72107.6,127864.55,353183.81,New York,105008.31\\n66051.52,182645.56,118148.2,Florida,103282.38\\n65605.48,153032.06,107138.38,New York,101004.64\\n61994.48,115641.28,91131.24,Florida,99937.59\\n61136.38,152701.92,88218.23,New York,97483.56\\n63408.86,129219.61,46085.25,California,97427.84\\n55493.95,103057.49,214634.81,Florida,96778.92\\n46426.07,157693.92,210797.67,California,96712.8\\n46014.02,85047.44,205517.64,New York,96479.51\\n28663.76,127056.21,201126.82,Florida,90708.19\\n44069.95,51283.14,197029.42,California,89949.14\\n20229.59,65947.93,185265.1,New York,81229.06\\n38558.51,82982.09,174999.3,California,81005.76\\n28754.33,118546.05,172795.67,California,78239.91\\n27892.92,84710.77,164470.71,Florida,77798.83\\n23640.93,96189.63,148001.11,California,71498.49\\n15505.73,127382.3,35534.17,New York,69758.98\\n22177.74,154806.14,28334.72,California,65200.33\\n1000.23,124153.04,1903.93,New York,64926.08\\n1315.46,115816.21,297114.46,Florida,49490.75\\n0.0,135426.92,0.0,California,42559.73\\n542.05,51743.15,0.0,New York,35673.41\\n0.0,116983.8,45173.06,California,14681.4\\n'"
      ]
     },
     "execution_count": 28,
     "metadata": {},
     "output_type": "execute_result"
    }
   ],
   "source": [
    "profit_csv_data= df.to_csv(index=False)\n",
    "profit_csv_data"
   ]
  },
  {
   "cell_type": "code",
   "execution_count": 34,
   "id": "e4e2f489-60c7-44d3-820d-ce12b745ac8f",
   "metadata": {},
   "outputs": [],
   "source": [
    "system_assistant=AssistantAgent(\n",
    "    name=\"system_assistant\",\n",
    "    human_input_mode=\"NEVER\",\n",
    "    llm_config=llm_config,\n",
    "    code_execution_config={\n",
    "        \"use_docker\":False\n",
    "    },\n",
    "    system_message=\"\"\"You are a data analysis assistant. Given a dataset containing a 'Profit' column, your task is to sort the dataset in descending order of profit and display the top 10 rows with the highest profit values as output. Ensure the output includes the entire row for each of the top 10 entries.\"\"\"\n",
    ")"
   ]
  },
  {
   "cell_type": "code",
   "execution_count": 30,
   "id": "1fbe599e-8b43-4d36-998c-a80bf901d0e5",
   "metadata": {},
   "outputs": [
    {
     "ename": "ImportError",
     "evalue": "cannot import name 'LocalFileRetriever' from 'autogen.retrieve_utils' (/opt/anaconda3/lib/python3.12/site-packages/autogen/retrieve_utils.py)",
     "output_type": "error",
     "traceback": [
      "\u001b[0;31m---------------------------------------------------------------------------\u001b[0m",
      "\u001b[0;31mImportError\u001b[0m                               Traceback (most recent call last)",
      "Cell \u001b[0;32mIn[30], line 1\u001b[0m\n\u001b[0;32m----> 1\u001b[0m \u001b[38;5;28;01mfrom\u001b[39;00m \u001b[38;5;21;01mautogen\u001b[39;00m\u001b[38;5;21;01m.\u001b[39;00m\u001b[38;5;21;01mretrieve_utils\u001b[39;00m \u001b[38;5;28;01mimport\u001b[39;00m LocalFileRetriever\n",
      "\u001b[0;31mImportError\u001b[0m: cannot import name 'LocalFileRetriever' from 'autogen.retrieve_utils' (/opt/anaconda3/lib/python3.12/site-packages/autogen/retrieve_utils.py)"
     ]
    }
   ],
   "source": [
    "from autogen.retrieve_utils import LocalFileRetriever"
   ]
  },
  {
   "cell_type": "code",
   "execution_count": 31,
   "id": "8e80c0f5-8b2f-4169-8f85-6fc006203558",
   "metadata": {},
   "outputs": [
    {
     "name": "stdout",
     "output_type": "stream",
     "text": [
      "['API', 'Any', 'BeautifulSoup', 'Callable', 'HAS_UNSTRUCTURED', 'Optional', 'QueryResult', 'RAG_MINIMUM_MESSAGE_LENGTH', 'TEXT_FORMATS', 'UNSTRUCTURED_FORMATS', 'Union', 'VALID_CHUNK_MODES', '__builtins__', '__cached__', '__doc__', '__file__', '__loader__', '__name__', '__package__', '__spec__', '_generate_file_name_from_url', 'chromadb', 'count_token', 'create_vector_db_from_dir', 'ef', 'extract_text_from_pdf', 'get_file_from_url', 'get_files_from_dir', 'glob', 'hashlib', 'is_url', 'logger', 'logging', 'markdownify', 'optional_import_block', 'os', 'parse_html_to_markdown', 'pypdf', 'query_vector_db', 're', 'requests', 'require_optional_import', 'result', 'split_files_to_chunks', 'split_text_to_chunks', 'urlparse']\n"
     ]
    }
   ],
   "source": [
    "import autogen.retrieve_utils as ru\n",
    "print(dir(ru))"
   ]
  },
  {
   "cell_type": "code",
   "execution_count": 38,
   "id": "ee0613c9-a55d-4323-8b02-160cb60de673",
   "metadata": {},
   "outputs": [
    {
     "ename": "SyntaxError",
     "evalue": "invalid syntax (2701888923.py, line 13)",
     "output_type": "error",
     "traceback": [
      "\u001b[0;36m  Cell \u001b[0;32mIn[38], line 13\u001b[0;36m\u001b[0m\n\u001b[0;31m    \"docs_path\":[\"50_Startups.csv\"]\u001b[0m\n\u001b[0m               ^\u001b[0m\n\u001b[0;31mSyntaxError\u001b[0m\u001b[0;31m:\u001b[0m invalid syntax\n"
     ]
    }
   ],
   "source": [
    "from autogen.agentchat.contrib.retrieve_user_proxy_agent import RetrieveUserProxyAgent\n",
    "\n",
    "raguserproxy=FileReadingUserProxy(\n",
    "    name=\"raguserproxy\",\n",
    "    is_termination_msg=lambda x: \"TERMINATE\" in x,\n",
    "    human_input_mode=\"NEVER\",\n",
    "    max_consecutive_auto_reply=2,\n",
    "    code_execution_config={\n",
    "        \"use_docker\":False\n",
    "    },\n",
    "    retrieve_config={\n",
    "        \"task\":\"Sort the dataset by 'Profit' in descending order and return it as CSV.\"\n",
    "        \"docs_path\":[\"50_Startups.csv\"]\n",
    "    }\n",
    ")"
   ]
  },
  {
   "cell_type": "code",
   "execution_count": null,
   "id": "e7ccaf19-8796-4ff5-a8ed-993327ddd4f7",
   "metadata": {},
   "outputs": [],
   "source": []
  },
  {
   "cell_type": "code",
   "execution_count": null,
   "id": "a6e727c4-55c0-4836-9e8c-14dafc4ad4c5",
   "metadata": {},
   "outputs": [],
   "source": []
  },
  {
   "cell_type": "code",
   "execution_count": 36,
   "id": "3a4101ee-062e-43c2-bdcd-9f587efc5876",
   "metadata": {},
   "outputs": [],
   "source": [
    "from autogen import GroupChat,GroupChatManager\n",
    "group_chat= GroupChat(agents=[system_assistant,raguserproxy],messages=[],max_round=5)\n",
    "manager=GroupChatManager(groupchat=group_chat,llm_config=llm_config)"
   ]
  },
  {
   "cell_type": "code",
   "execution_count": 37,
   "id": "3eefd5b1-6e75-472f-8273-81d2c9d803e0",
   "metadata": {},
   "outputs": [
    {
     "name": "stdout",
     "output_type": "stream",
     "text": [
      "\u001b[33mraguserproxy\u001b[0m (to chat_manager):\n",
      "\n",
      "Can you display the top 10 rows sorted by Profit in descending order?\n",
      "\n",
      "--------------------------------------------------------------------------------\n"
     ]
    },
    {
     "name": "stderr",
     "output_type": "stream",
     "text": [
      "GroupChat is underpopulated with 2 agents. Consider setting speaker_selection_method to 'round_robin' or allow_repeat_speaker to False, or use direct communication, unless repeated speaker is desired.\n"
     ]
    },
    {
     "name": "stdout",
     "output_type": "stream",
     "text": [
      "\u001b[32m\n",
      "Next speaker: system_assistant\n",
      "\u001b[0m\n",
      "\u001b[33msystem_assistant\u001b[0m (to chat_manager):\n",
      "\n",
      "Sure! Please provide me with the dataset containing the 'Profit' column so that I can analyze and sort it accordingly.\n",
      "\n",
      "--------------------------------------------------------------------------------\n"
     ]
    },
    {
     "name": "stderr",
     "output_type": "stream",
     "text": [
      "GroupChat is underpopulated with 2 agents. Consider setting speaker_selection_method to 'round_robin' or allow_repeat_speaker to False, or use direct communication, unless repeated speaker is desired.\n"
     ]
    },
    {
     "name": "stdout",
     "output_type": "stream",
     "text": [
      "\u001b[32m\n",
      "Next speaker: system_assistant\n",
      "\u001b[0m\n",
      "\u001b[33msystem_assistant\u001b[0m (to chat_manager):\n",
      "\n",
      "Once you provide the dataset, I will be able to assist you further.\n",
      "\n",
      "--------------------------------------------------------------------------------\n"
     ]
    },
    {
     "name": "stderr",
     "output_type": "stream",
     "text": [
      "GroupChat is underpopulated with 2 agents. Consider setting speaker_selection_method to 'round_robin' or allow_repeat_speaker to False, or use direct communication, unless repeated speaker is desired.\n"
     ]
    },
    {
     "name": "stdout",
     "output_type": "stream",
     "text": [
      "\u001b[32m\n",
      "Next speaker: system_assistant\n",
      "\u001b[0m\n",
      "\u001b[33msystem_assistant\u001b[0m (to chat_manager):\n",
      "\n",
      "Please provide the dataset with the 'Profit' column so that I can display the top 10 rows sorted by profit in descending order.\n",
      "\n",
      "--------------------------------------------------------------------------------\n"
     ]
    },
    {
     "name": "stderr",
     "output_type": "stream",
     "text": [
      "GroupChat is underpopulated with 2 agents. Consider setting speaker_selection_method to 'round_robin' or allow_repeat_speaker to False, or use direct communication, unless repeated speaker is desired.\n"
     ]
    },
    {
     "name": "stdout",
     "output_type": "stream",
     "text": [
      "\u001b[32m\n",
      "Next speaker: system_assistant\n",
      "\u001b[0m\n",
      "\u001b[33msystem_assistant\u001b[0m (to chat_manager):\n",
      "\n",
      "Please provide the dataset with the 'Profit' column so that I can analyze it and show you the top 10 rows sorted by profit in descending order.\n",
      "\n",
      "--------------------------------------------------------------------------------\n",
      "\u001b[31m\n",
      ">>>>>>>> TERMINATING RUN (4a001f93-b3fd-4b63-b140-525252a9bfd4): Maximum rounds (5) reached\u001b[0m\n"
     ]
    },
    {
     "data": {
      "text/plain": [
       "ChatResult(chat_id=None, chat_history=[{'content': 'Can you display the top 10 rows sorted by Profit in descending order?', 'role': 'assistant', 'name': 'raguserproxy'}, {'content': \"Sure! Please provide me with the dataset containing the 'Profit' column so that I can analyze and sort it accordingly.\", 'name': 'system_assistant', 'role': 'user'}, {'content': 'Once you provide the dataset, I will be able to assist you further.', 'name': 'system_assistant', 'role': 'user'}, {'content': \"Please provide the dataset with the 'Profit' column so that I can display the top 10 rows sorted by profit in descending order.\", 'name': 'system_assistant', 'role': 'user'}, {'content': \"Please provide the dataset with the 'Profit' column so that I can analyze it and show you the top 10 rows sorted by profit in descending order.\", 'name': 'system_assistant', 'role': 'user'}], summary=\"Please provide the dataset with the 'Profit' column so that I can analyze it and show you the top 10 rows sorted by profit in descending order.\", cost={'usage_including_cached_inference': {'total_cost': 0}, 'usage_excluding_cached_inference': {'total_cost': 0}}, human_input=[])"
      ]
     },
     "execution_count": 37,
     "metadata": {},
     "output_type": "execute_result"
    }
   ],
   "source": [
    "user_prompt=\"Can you display the top 10 rows sorted by Profit in descending order?\"\n",
    "results=raguserproxy.initiate_chat(manager,message=user_prompt)\n",
    "results"
   ]
  },
  {
   "cell_type": "code",
   "execution_count": null,
   "id": "ffb821d0-7997-42e2-afbc-57525aebd7a9",
   "metadata": {},
   "outputs": [],
   "source": []
  },
  {
   "cell_type": "code",
   "execution_count": null,
   "id": "77933f20-5f6b-4b29-962f-4428cc2b6863",
   "metadata": {},
   "outputs": [],
   "source": []
  },
  {
   "cell_type": "code",
   "execution_count": null,
   "id": "f126729f-e051-486b-8a4a-ee2252771b72",
   "metadata": {},
   "outputs": [],
   "source": []
  }
 ],
 "metadata": {
  "kernelspec": {
   "display_name": "Python 3 (ipykernel)",
   "language": "python",
   "name": "python3"
  },
  "language_info": {
   "codemirror_mode": {
    "name": "ipython",
    "version": 3
   },
   "file_extension": ".py",
   "mimetype": "text/x-python",
   "name": "python",
   "nbconvert_exporter": "python",
   "pygments_lexer": "ipython3",
   "version": "3.12.7"
  }
 },
 "nbformat": 4,
 "nbformat_minor": 5
}
