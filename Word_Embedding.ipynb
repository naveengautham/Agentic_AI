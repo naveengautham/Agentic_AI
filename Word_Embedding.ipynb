{
 "cells": [
  {
   "cell_type": "code",
   "execution_count": 1,
   "id": "1ac1a112-557e-415b-ba47-e66b62959a1c",
   "metadata": {},
   "outputs": [],
   "source": [
    "from autogen import AssistantAgent\n",
    "from autogen.agentchat.contrib.retrieve_user_proxy_agent import RetrieveUserProxyAgent"
   ]
  },
  {
   "cell_type": "code",
   "execution_count": 2,
   "id": "98d47e75-50a1-4844-95b1-d257caa14945",
   "metadata": {},
   "outputs": [],
   "source": [
    "from Util import get_openai_api_key\n",
    "OPEN_API_KEY= get_openai_api_key()"
   ]
  },
  {
   "cell_type": "code",
   "execution_count": 3,
   "id": "ed0544ed-19d5-4ea1-a54d-928d4b1b883c",
   "metadata": {},
   "outputs": [],
   "source": [
    "llm_config={\n",
    "    \"config_list\":{\n",
    "        \"model\":\"gpt-3.5-turbo\",\n",
    "        \"api_key\":OPEN_API_KEY\n",
    "    }\n",
    "}"
   ]
  },
  {
   "cell_type": "code",
   "execution_count": 31,
   "id": "e4e2f489-60c7-44d3-820d-ce12b745ac8f",
   "metadata": {},
   "outputs": [],
   "source": [
    "system_assistant=AssistantAgent(\n",
    "    name=\"system_assistant\",\n",
    "    human_input_mode=\"NEVER\",\n",
    "    llm_config=llm_config,\n",
    "    code_execution_config={\n",
    "        \"work_dir\":\"50_Startups.csv\",\n",
    "        \"use_docker\":False\n",
    "    },\n",
    "    system_message=\"\"\"You are a data analysis assistant. Given a dataset containing a 'Profit' column, your task is to sort the dataset in descending order of profit and display the top 10 rows with the highest profit values as output. Ensure the output includes the entire row for each of the top 10 entries.\"\"\"\n",
    ")"
   ]
  },
  {
   "cell_type": "code",
   "execution_count": 30,
   "id": "3ef6e210-c938-4e33-968b-5d883b1f24d6",
   "metadata": {},
   "outputs": [],
   "source": [
    "import pandas as pd\n",
    "df= pd.read_csv(\"50_Startups.csv\")\n",
    "docs_content= df.sort_values(by=\"Profit\",ascending=False).head(10)"
   ]
  },
  {
   "cell_type": "code",
   "execution_count": 19,
   "id": "a7a95724-5c29-431e-9457-c71e89a2348f",
   "metadata": {},
   "outputs": [
    {
     "data": {
      "text/html": [
       "<div>\n",
       "<style scoped>\n",
       "    .dataframe tbody tr th:only-of-type {\n",
       "        vertical-align: middle;\n",
       "    }\n",
       "\n",
       "    .dataframe tbody tr th {\n",
       "        vertical-align: top;\n",
       "    }\n",
       "\n",
       "    .dataframe thead th {\n",
       "        text-align: right;\n",
       "    }\n",
       "</style>\n",
       "<table border=\"1\" class=\"dataframe\">\n",
       "  <thead>\n",
       "    <tr style=\"text-align: right;\">\n",
       "      <th></th>\n",
       "      <th>R&amp;D Spend</th>\n",
       "      <th>Administration</th>\n",
       "      <th>Marketing Spend</th>\n",
       "      <th>State</th>\n",
       "      <th>Profit</th>\n",
       "    </tr>\n",
       "  </thead>\n",
       "  <tbody>\n",
       "    <tr>\n",
       "      <th>49</th>\n",
       "      <td>0.00</td>\n",
       "      <td>116983.80</td>\n",
       "      <td>45173.06</td>\n",
       "      <td>California</td>\n",
       "      <td>14681.40</td>\n",
       "    </tr>\n",
       "    <tr>\n",
       "      <th>48</th>\n",
       "      <td>542.05</td>\n",
       "      <td>51743.15</td>\n",
       "      <td>0.00</td>\n",
       "      <td>New York</td>\n",
       "      <td>35673.41</td>\n",
       "    </tr>\n",
       "    <tr>\n",
       "      <th>47</th>\n",
       "      <td>0.00</td>\n",
       "      <td>135426.92</td>\n",
       "      <td>0.00</td>\n",
       "      <td>California</td>\n",
       "      <td>42559.73</td>\n",
       "    </tr>\n",
       "    <tr>\n",
       "      <th>46</th>\n",
       "      <td>1315.46</td>\n",
       "      <td>115816.21</td>\n",
       "      <td>297114.46</td>\n",
       "      <td>Florida</td>\n",
       "      <td>49490.75</td>\n",
       "    </tr>\n",
       "    <tr>\n",
       "      <th>45</th>\n",
       "      <td>1000.23</td>\n",
       "      <td>124153.04</td>\n",
       "      <td>1903.93</td>\n",
       "      <td>New York</td>\n",
       "      <td>64926.08</td>\n",
       "    </tr>\n",
       "    <tr>\n",
       "      <th>44</th>\n",
       "      <td>22177.74</td>\n",
       "      <td>154806.14</td>\n",
       "      <td>28334.72</td>\n",
       "      <td>California</td>\n",
       "      <td>65200.33</td>\n",
       "    </tr>\n",
       "    <tr>\n",
       "      <th>43</th>\n",
       "      <td>15505.73</td>\n",
       "      <td>127382.30</td>\n",
       "      <td>35534.17</td>\n",
       "      <td>New York</td>\n",
       "      <td>69758.98</td>\n",
       "    </tr>\n",
       "    <tr>\n",
       "      <th>42</th>\n",
       "      <td>23640.93</td>\n",
       "      <td>96189.63</td>\n",
       "      <td>148001.11</td>\n",
       "      <td>California</td>\n",
       "      <td>71498.49</td>\n",
       "    </tr>\n",
       "    <tr>\n",
       "      <th>41</th>\n",
       "      <td>27892.92</td>\n",
       "      <td>84710.77</td>\n",
       "      <td>164470.71</td>\n",
       "      <td>Florida</td>\n",
       "      <td>77798.83</td>\n",
       "    </tr>\n",
       "    <tr>\n",
       "      <th>40</th>\n",
       "      <td>28754.33</td>\n",
       "      <td>118546.05</td>\n",
       "      <td>172795.67</td>\n",
       "      <td>California</td>\n",
       "      <td>78239.91</td>\n",
       "    </tr>\n",
       "  </tbody>\n",
       "</table>\n",
       "</div>"
      ],
      "text/plain": [
       "    R&D Spend  Administration  Marketing Spend       State    Profit\n",
       "49       0.00       116983.80         45173.06  California  14681.40\n",
       "48     542.05        51743.15             0.00    New York  35673.41\n",
       "47       0.00       135426.92             0.00  California  42559.73\n",
       "46    1315.46       115816.21        297114.46     Florida  49490.75\n",
       "45    1000.23       124153.04          1903.93    New York  64926.08\n",
       "44   22177.74       154806.14         28334.72  California  65200.33\n",
       "43   15505.73       127382.30         35534.17    New York  69758.98\n",
       "42   23640.93        96189.63        148001.11  California  71498.49\n",
       "41   27892.92        84710.77        164470.71     Florida  77798.83\n",
       "40   28754.33       118546.05        172795.67  California  78239.91"
      ]
     },
     "execution_count": 19,
     "metadata": {},
     "output_type": "execute_result"
    }
   ],
   "source": [
    "docs_content"
   ]
  },
  {
   "cell_type": "code",
   "execution_count": null,
   "id": "1d1b4192-ee85-4112-ab6b-b8cd59b5e5a7",
   "metadata": {},
   "outputs": [],
   "source": []
  },
  {
   "cell_type": "code",
   "execution_count": 32,
   "id": "ee0613c9-a55d-4323-8b02-160cb60de673",
   "metadata": {},
   "outputs": [],
   "source": [
    "from autogen import UserProxyAgent\n",
    "\n",
    "user_agent= UserProxyAgent(\n",
    "    name=\"user_agent\",\n",
    "    code_execution_config={\n",
    "        \"work_dir\":\"50_Startups.csv\",\n",
    "        \"use_docker\":False\n",
    "    },\n",
    "    system_message=\"You are a retriever agent that provides access to external CSV files like 50_Startups.csv\"\n",
    ")"
   ]
  },
  {
   "cell_type": "code",
   "execution_count": 33,
   "id": "3a4101ee-062e-43c2-bdcd-9f587efc5876",
   "metadata": {},
   "outputs": [],
   "source": [
    "from autogen import GroupChat,GroupChatManager\n",
    "group_chat= GroupChat(agents=[system_assistant,user_agent],messages=[],max_round=5)\n",
    "manager=GroupChatManager(groupchat=group_chat,llm_config=llm_config)"
   ]
  },
  {
   "cell_type": "code",
   "execution_count": 34,
   "id": "3dbd089e-af68-482d-ae7d-09a20313ace1",
   "metadata": {},
   "outputs": [
    {
     "name": "stdout",
     "output_type": "stream",
     "text": [
      "\u001b[33muser_agent\u001b[0m (to chat_manager):\n",
      "\n",
      "Here is the dataset containing the 'Profit' column.\n",
      "\n",
      "--------------------------------------------------------------------------------\n"
     ]
    },
    {
     "name": "stderr",
     "output_type": "stream",
     "text": [
      "GroupChat is underpopulated with 2 agents. Consider setting speaker_selection_method to 'round_robin' or allow_repeat_speaker to False, or use direct communication, unless repeated speaker is desired.\n"
     ]
    },
    {
     "name": "stdout",
     "output_type": "stream",
     "text": [
      "\u001b[32m\n",
      "Next speaker: system_assistant\n",
      "\u001b[0m\n",
      "\u001b[33msystem_assistant\u001b[0m (to chat_manager):\n",
      "\n",
      "Please provide the dataset so we can proceed with sorting it in descending order of profit and displaying the top 10 rows with the highest profit values.\n",
      "\n",
      "--------------------------------------------------------------------------------\n"
     ]
    },
    {
     "name": "stderr",
     "output_type": "stream",
     "text": [
      "GroupChat is underpopulated with 2 agents. Consider setting speaker_selection_method to 'round_robin' or allow_repeat_speaker to False, or use direct communication, unless repeated speaker is desired.\n"
     ]
    },
    {
     "name": "stdout",
     "output_type": "stream",
     "text": [
      "\u001b[32m\n",
      "Next speaker: system_assistant\n",
      "\u001b[0m\n",
      "\u001b[33msystem_assistant\u001b[0m (to chat_manager):\n",
      "\n",
      "Could you please provide the dataset containing the 'Profit' column so that I can assist you further?\n",
      "\n",
      "--------------------------------------------------------------------------------\n"
     ]
    },
    {
     "name": "stderr",
     "output_type": "stream",
     "text": [
      "GroupChat is underpopulated with 2 agents. Consider setting speaker_selection_method to 'round_robin' or allow_repeat_speaker to False, or use direct communication, unless repeated speaker is desired.\n"
     ]
    },
    {
     "name": "stdout",
     "output_type": "stream",
     "text": [
      "\u001b[32m\n",
      "Next speaker: system_assistant\n",
      "\u001b[0m\n",
      "\u001b[33msystem_assistant\u001b[0m (to chat_manager):\n",
      "\n",
      "To analyze the data, I would need the dataset with the 'Profit' column.\n",
      "\n",
      "--------------------------------------------------------------------------------\n"
     ]
    },
    {
     "name": "stderr",
     "output_type": "stream",
     "text": [
      "GroupChat is underpopulated with 2 agents. Consider setting speaker_selection_method to 'round_robin' or allow_repeat_speaker to False, or use direct communication, unless repeated speaker is desired.\n"
     ]
    },
    {
     "name": "stdout",
     "output_type": "stream",
     "text": [
      "\u001b[32m\n",
      "Next speaker: system_assistant\n",
      "\u001b[0m\n",
      "\u001b[33msystem_assistant\u001b[0m (to chat_manager):\n",
      "\n",
      "Once you provide the dataset, I will be able to sort it in descending order of profit and display the top 10 rows with the highest profit values.\n",
      "\n",
      "--------------------------------------------------------------------------------\n",
      "\u001b[31m\n",
      ">>>>>>>> TERMINATING RUN (ff059988-5d42-43ca-b23f-2dc4aa342961): Maximum rounds (5) reached\u001b[0m\n"
     ]
    },
    {
     "data": {
      "text/plain": [
       "ChatResult(chat_id=None, chat_history=[{'content': \"Here is the dataset containing the 'Profit' column.\", 'role': 'assistant', 'name': 'user_agent'}, {'content': 'Please provide the dataset so we can proceed with sorting it in descending order of profit and displaying the top 10 rows with the highest profit values.', 'name': 'system_assistant', 'role': 'user'}, {'content': \"Could you please provide the dataset containing the 'Profit' column so that I can assist you further?\", 'name': 'system_assistant', 'role': 'user'}, {'content': \"To analyze the data, I would need the dataset with the 'Profit' column.\", 'name': 'system_assistant', 'role': 'user'}, {'content': 'Once you provide the dataset, I will be able to sort it in descending order of profit and display the top 10 rows with the highest profit values.', 'name': 'system_assistant', 'role': 'user'}], summary='Once you provide the dataset, I will be able to sort it in descending order of profit and display the top 10 rows with the highest profit values.', cost={'usage_including_cached_inference': {'total_cost': 0}, 'usage_excluding_cached_inference': {'total_cost': 0}}, human_input=[])"
      ]
     },
     "execution_count": 34,
     "metadata": {},
     "output_type": "execute_result"
    }
   ],
   "source": [
    "user_agent.initiate_chat(manager,message=\"Here is the dataset containing the 'Profit' column.\",code=\"\"\"\n",
    "import pandas as pd\n",
    "df = pd.read_csv('50_Startups.csv')\n",
    "df.sort_values(by='Profit', ascending=True).head(10)\n",
    "\"\"\")"
   ]
  },
  {
   "cell_type": "code",
   "execution_count": 27,
   "id": "8dc41a2d-6a93-4e49-b6ba-3495d41d0a4c",
   "metadata": {},
   "outputs": [],
   "source": [
    "#print(chatResult)"
   ]
  },
  {
   "cell_type": "code",
   "execution_count": 21,
   "id": "b35c506f-5c99-4a1b-881a-927cd5e16b1a",
   "metadata": {},
   "outputs": [
    {
     "name": "stderr",
     "output_type": "stream",
     "text": [
      "File 50_Startups.csv.csv does not exist. Skipping.\n",
      "2025-06-30 14:23:25,934 - autogen.agentchat.contrib.retrieve_user_proxy_agent - INFO - Found 0 chunks.\u001b[0m\n"
     ]
    },
    {
     "name": "stdout",
     "output_type": "stream",
     "text": [
      "Trying to create collection.\n",
      "VectorDB returns doc_ids:  [[]]\n",
      "\u001b[32mNo more context, will terminate.\u001b[0m\n",
      "\u001b[33mretrieve_agent\u001b[0m (to system_assistant):\n",
      "\n",
      "TERMINATE\n",
      "\n",
      "--------------------------------------------------------------------------------\n",
      "\u001b[31m\n",
      ">>>>>>>> TERMINATING RUN (fac2ceee-b72f-4a8d-bd90-d1a67ed8e01b): Termination message condition on agent 'system_assistant' met\u001b[0m\n"
     ]
    }
   ],
   "source": [
    "system_assistant.reset()\n",
    "professor= \"Can you display top 10 profit data\"\n",
    "results= retrieve_agent.initiate_chat(system_assistant,message=retrieve_agent.message_generator,problem=professor)"
   ]
  },
  {
   "cell_type": "code",
   "execution_count": null,
   "id": "1a56d080-e37c-48d3-b4ae-1f9059185b4b",
   "metadata": {},
   "outputs": [],
   "source": []
  }
 ],
 "metadata": {
  "kernelspec": {
   "display_name": "Python 3 (ipykernel)",
   "language": "python",
   "name": "python3"
  },
  "language_info": {
   "codemirror_mode": {
    "name": "ipython",
    "version": 3
   },
   "file_extension": ".py",
   "mimetype": "text/x-python",
   "name": "python",
   "nbconvert_exporter": "python",
   "pygments_lexer": "ipython3",
   "version": "3.12.7"
  }
 },
 "nbformat": 4,
 "nbformat_minor": 5
}
