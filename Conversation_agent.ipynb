{
 "cells": [
  {
   "cell_type": "code",
   "execution_count": 1,
   "id": "70445f1d-c60f-437c-bbd5-6c50f41fbeed",
   "metadata": {},
   "outputs": [],
   "source": [
    "from Util import get_openai_api_key\n",
    "OPEN_API_KEY=get_openai_api_key()"
   ]
  },
  {
   "cell_type": "code",
   "execution_count": 2,
   "id": "d352c2a9-590e-4031-9d63-a9f545a3d87a",
   "metadata": {},
   "outputs": [],
   "source": [
    "llm_config={\n",
    "    \"config_list\":{\n",
    "        \"model\":\"gpt-3.5-turbo\",\n",
    "        \"api_key\":OPEN_API_KEY\n",
    "    }\n",
    "}"
   ]
  },
  {
   "cell_type": "code",
   "execution_count": 3,
   "id": "e79994fa-b355-448a-b168-833765e6568b",
   "metadata": {},
   "outputs": [],
   "source": [
    "from autogen import ConversableAgent"
   ]
  },
  {
   "cell_type": "code",
   "execution_count": 4,
   "id": "8f843a81-d367-428b-b40a-8f52783b62bc",
   "metadata": {},
   "outputs": [],
   "source": [
    "#developer agent\n",
    "\n",
    "developer_agent=ConversableAgent(\n",
    "    name=\"developer_agent\",\n",
    "    llm_config=llm_config,\n",
    "    human_input_mode=\"ALWAYS\",\n",
    ")"
   ]
  },
  {
   "cell_type": "code",
   "execution_count": 8,
   "id": "6e30520f-53c8-4cec-9eef-de48a3e48152",
   "metadata": {},
   "outputs": [],
   "source": [
    "#tester agent\n",
    "\n",
    "tester_agent=ConversableAgent(\n",
    "    name=\"tester_agent\",\n",
    "    llm_config=llm_config,\n",
    "    human_input_mode=\"NEVER\",\n",
    "    system_message=\"\"\"\n",
    "    You are a pytho code reiewer assistant.\n",
    "    Your goal is to review the code based on the code quality, readability and coding standard.\n",
    "    you should generate the answer step by step with the correct answer.\n",
    "    Constraints:\n",
    "    1.Do not change the logic unless it is faulty.\n",
    "    2.Explain the line of the code with simple language.\n",
    "    \"\"\"\n",
    ")"
   ]
  },
  {
   "cell_type": "code",
   "execution_count": 9,
   "id": "7550e48e-a3f8-4f11-b1e4-e442db4c56b8",
   "metadata": {},
   "outputs": [
    {
     "name": "stdout",
     "output_type": "stream",
     "text": [
      "\u001b[33mdeveloper_agent\u001b[0m (to tester_agent):\n",
      "\n",
      "Can you please review my code in python\n",
      "def add(a,b):\n",
      "return a)b\n",
      "\n",
      "\n",
      "--------------------------------------------------------------------------------\n",
      "\u001b[33mtester_agent\u001b[0m (to developer_agent):\n",
      "\n",
      "Sure, I will review the code you provided step by step.\n",
      "\n",
      "1. The function `add(a, b)` is defined with parameters `a` and `b`.\n",
      "2. The `return` statement is incorrectly written. It should be `return a + b` to add the two values.\n",
      "\n",
      "Would you like me to provide the corrected version of the code?\n",
      "\n",
      "--------------------------------------------------------------------------------\n"
     ]
    },
    {
     "name": "stdin",
     "output_type": "stream",
     "text": [
      "Replying as developer_agent. Provide feedback to tester_agent. Press enter to skip and use auto-reply, or type 'exit' to end the conversation:  yes please\n"
     ]
    },
    {
     "name": "stdout",
     "output_type": "stream",
     "text": [
      "\u001b[33mdeveloper_agent\u001b[0m (to tester_agent):\n",
      "\n",
      "yes please\n",
      "\n",
      "--------------------------------------------------------------------------------\n",
      "\u001b[33mtester_agent\u001b[0m (to developer_agent):\n",
      "\n",
      "```python\n",
      "def add(a, b):\n",
      "    return a + b\n",
      "```\n",
      "\n",
      "--------------------------------------------------------------------------------\n"
     ]
    },
    {
     "name": "stdin",
     "output_type": "stream",
     "text": [
      "Replying as developer_agent. Provide feedback to tester_agent. Press enter to skip and use auto-reply, or type 'exit' to end the conversation:  can you generate python code for filtering the data in the dataset and save it in csv file\n"
     ]
    },
    {
     "name": "stdout",
     "output_type": "stream",
     "text": [
      "\u001b[33mdeveloper_agent\u001b[0m (to tester_agent):\n",
      "\n",
      "can you generate python code for filtering the data in the dataset and save it in csv file\n",
      "\n",
      "--------------------------------------------------------------------------------\n",
      "\u001b[33mtester_agent\u001b[0m (to developer_agent):\n",
      "\n",
      "Certainly! Below is an example code snippet that filters data from a dataset and saves it to a CSV file using the pandas library in Python:\n",
      "\n",
      "```python\n",
      "import pandas as pd\n",
      "\n",
      "# Load the dataset\n",
      "df = pd.read_csv('input_dataset.csv')\n",
      "\n",
      "# Filter the data based on a condition (For example, filter rows where 'column_name' equals 'value')\n",
      "filtered_df = df[df['column_name'] == 'value']\n",
      "\n",
      "# Save the filtered data to a new CSV file\n",
      "filtered_df.to_csv('filtered_dataset.csv', index=False)\n",
      "```\n",
      "\n",
      "Make sure to replace `'input_dataset.csv'` with the path to your input dataset file, `'column_name'` with the actual column name you want to filter on, and `'value'` with the value you want to filter for.\n",
      "\n",
      "Feel free to customize this code according to your specific filtering criteria. Let me know if you need any further assistance!\n",
      "\n",
      "--------------------------------------------------------------------------------\n"
     ]
    },
    {
     "name": "stdin",
     "output_type": "stream",
     "text": [
      "Replying as developer_agent. Provide feedback to tester_agent. Press enter to skip and use auto-reply, or type 'exit' to end the conversation:  exit\n"
     ]
    },
    {
     "name": "stdout",
     "output_type": "stream",
     "text": [
      "\u001b[31m\n",
      ">>>>>>>> TERMINATING RUN (534d8d5c-7f77-43ec-91cf-4d9ea49706e4): User requested to end the conversation\u001b[0m\n"
     ]
    }
   ],
   "source": [
    "chat_convo=developer_agent.initiate_chat(tester_agent,message=\"\"\"Can you please review my code in python\n",
    "def add(a,b):\n",
    "return a)b\n",
    "\"\"\")"
   ]
  },
  {
   "cell_type": "code",
   "execution_count": null,
   "id": "8014265a-605b-4807-9dfe-d82c57c5fdd2",
   "metadata": {},
   "outputs": [],
   "source": []
  }
 ],
 "metadata": {
  "kernelspec": {
   "display_name": "Python 3 (ipykernel)",
   "language": "python",
   "name": "python3"
  },
  "language_info": {
   "codemirror_mode": {
    "name": "ipython",
    "version": 3
   },
   "file_extension": ".py",
   "mimetype": "text/x-python",
   "name": "python",
   "nbconvert_exporter": "python",
   "pygments_lexer": "ipython3",
   "version": "3.12.7"
  }
 },
 "nbformat": 4,
 "nbformat_minor": 5
}
