{
 "cells": [
  {
   "cell_type": "code",
   "execution_count": 1,
   "id": "7b8ea6fb-1491-4df7-8dea-b2d02543ef11",
   "metadata": {},
   "outputs": [],
   "source": [
    "from Util import get_openai_api_key\n",
    "OPEN_API_KEY=get_openai_api_key()"
   ]
  },
  {
   "cell_type": "code",
   "execution_count": 2,
   "id": "86ef6084-ddce-4914-863b-fdc04c5a9c8b",
   "metadata": {},
   "outputs": [],
   "source": [
    "llm_config={\n",
    "    \"config_list\":{\n",
    "        \"model\":\"gpt-3.5-turbo\",\n",
    "        \"api_key\":OPEN_API_KEY\n",
    "    }\n",
    "}"
   ]
  },
  {
   "cell_type": "code",
   "execution_count": 4,
   "id": "6a365980-ef78-4f25-acbd-9406b61a2db7",
   "metadata": {},
   "outputs": [],
   "source": [
    "from autogen import UserProxyAgent,AssistantAgent,GroupChat,GroupChatManager\n",
    "\n",
    "#agent1\n",
    "user_proxy=UserProxyAgent(\n",
    "    name=\"user_proxy\",\n",
    "    human_input_mode=\"NEVER\",\n",
    "    code_execution_config={\n",
    "        \"use_docker\":False\n",
    "    }\n",
    ")"
   ]
  },
  {
   "cell_type": "code",
   "execution_count": 5,
   "id": "b508382f-4b24-4485-8eee-bbd49ea2348f",
   "metadata": {},
   "outputs": [],
   "source": [
    "#agent2\n",
    "routing_agent=AssistantAgent(\n",
    "    name=\"routing_agent\",\n",
    "    llm_config=llm_config,\n",
    "    system_message=\"\"\" \n",
    "    You are an routing agent, Based on the user input, route to specific agent,\n",
    "    translator_agent if intent equals to translation,\n",
    "    summarizer_agent if intent equals to summaraizer,\n",
    "    code_agent if intent equals to code writer\n",
    "    \"\"\"\n",
    ")"
   ]
  },
  {
   "cell_type": "code",
   "execution_count": 12,
   "id": "f9941ceb-31df-45be-b548-a095396b459e",
   "metadata": {},
   "outputs": [],
   "source": [
    "#agent 3\n",
    "\n",
    "translator_agent=AssistantAgent(\n",
    "    name=\"translator_agent\",\n",
    "    llm_config=llm_config,\n",
    "    system_message=\"\"\" \n",
    "    you are an translator agent, based on the user input, translate the text into the specified language.\n",
    "    \"\"\"\n",
    ")"
   ]
  },
  {
   "cell_type": "code",
   "execution_count": 13,
   "id": "b429f8d0-2cd4-4f1f-87e3-334586627f26",
   "metadata": {},
   "outputs": [],
   "source": [
    "#agent 4\n",
    "\n",
    "summarizer_agent=AssistantAgent(\n",
    "    name=\"summarizer_agent\",\n",
    "    llm_config=llm_config,\n",
    "    system_message=\"\"\" \n",
    "    You are an summarizer agent, Based on the user input, condense the large text into concise summary while retaining key points.\n",
    "    \"\"\"\n",
    ")"
   ]
  },
  {
   "cell_type": "code",
   "execution_count": 14,
   "id": "7fee4765-b7d9-43ce-8be1-49f11fcb3dd7",
   "metadata": {},
   "outputs": [],
   "source": [
    "#agent 5\n",
    "\n",
    "code_writer=AssistantAgent(\n",
    "    name=\"code_writer\",\n",
    "    llm_config=llm_config,\n",
    "    system_message=\"\"\" \n",
    "    You are an code writer.\n",
    "    Based on the user input,write an program in an well structured and declarative manner.\n",
    "    support python,javascript and shelll scripting language.\n",
    "    \"\"\"\n",
    ")"
   ]
  },
  {
   "cell_type": "code",
   "execution_count": 22,
   "id": "22f3c248-bd70-497d-a7b8-c174b8b96509",
   "metadata": {},
   "outputs": [],
   "source": [
    "group_chat= GroupChat(\n",
    "    agents=[\n",
    "        user_proxy,\n",
    "        translator_agent,\n",
    "        summarizer_agent,\n",
    "        code_writer\n",
    "    ],\n",
    "    messages=[],\n",
    "    max_round=2\n",
    ")\n",
    "manager=GroupChatManager(\n",
    "    groupchat=group_chat,\n",
    "    llm_config=llm_config\n",
    ")"
   ]
  },
  {
   "cell_type": "code",
   "execution_count": 23,
   "id": "c6f66a48-c695-4511-af6d-cb786d0f6679",
   "metadata": {},
   "outputs": [
    {
     "name": "stdout",
     "output_type": "stream",
     "text": [
      "\u001b[33mchat_manager\u001b[0m (to chat_manager):\n",
      "\n",
      "Can you translate the text into french? Hello priya, good morning! how was your day?\n",
      "\n",
      "--------------------------------------------------------------------------------\n",
      "\u001b[32m\n",
      "Next speaker: translator_agent\n",
      "\u001b[0m\n",
      "\u001b[33mtranslator_agent\u001b[0m (to chat_manager):\n",
      "\n",
      "Salut Priya, bonjour ! Comment s'est passé ta journée ?\n",
      "\n",
      "--------------------------------------------------------------------------------\n",
      "\u001b[31m\n",
      ">>>>>>>> TERMINATING RUN (cda1256f-5bd1-4a21-b468-7e6744f6bcac): Maximum rounds (2) reached\u001b[0m\n"
     ]
    }
   ],
   "source": [
    "response= manager.initiate_chat(\n",
    "    manager,\n",
    "    message=\"Can you translate the text into french? Hello priya, good morning! how was your day?\"\n",
    ")"
   ]
  },
  {
   "cell_type": "code",
   "execution_count": null,
   "id": "2b785227-9f60-49fb-bfa2-5663c55a768d",
   "metadata": {},
   "outputs": [],
   "source": []
  }
 ],
 "metadata": {
  "kernelspec": {
   "display_name": "Python 3 (ipykernel)",
   "language": "python",
   "name": "python3"
  },
  "language_info": {
   "codemirror_mode": {
    "name": "ipython",
    "version": 3
   },
   "file_extension": ".py",
   "mimetype": "text/x-python",
   "name": "python",
   "nbconvert_exporter": "python",
   "pygments_lexer": "ipython3",
   "version": "3.12.7"
  }
 },
 "nbformat": 4,
 "nbformat_minor": 5
}
