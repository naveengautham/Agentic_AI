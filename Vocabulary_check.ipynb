{
 "cells": [
  {
   "cell_type": "code",
   "execution_count": 1,
   "id": "1aec8e04-2fc6-4731-92da-8d321bb05e86",
   "metadata": {},
   "outputs": [],
   "source": [
    "from Util import get_openai_api_key\n",
    "OPEN_API_KEY=get_openai_api_key()"
   ]
  },
  {
   "cell_type": "code",
   "execution_count": 2,
   "id": "ecf1cf69-b8f7-4f64-a2c4-8b106d229735",
   "metadata": {},
   "outputs": [],
   "source": [
    "llm_config={\n",
    "    \"config_list\":{\n",
    "        \"model\":\"gpt-3.5-turbo\",\n",
    "        \"api_key\":OPEN_API_KEY\n",
    "    }\n",
    "}"
   ]
  },
  {
   "cell_type": "code",
   "execution_count": 3,
   "id": "a0ec50e1-73a0-4317-824c-741092dab188",
   "metadata": {},
   "outputs": [],
   "source": [
    "from autogen import AssistantAgent\n",
    "\n",
    "vocabulory_agent=AssistantAgent(\n",
    "    name=\"vocabulory_agent\",\n",
    "    system_message=\"\"\" You are a helpful language assistant specialized in English grammar and vocabulary correction. When a user inputs a sentence, phrase, or word:\n",
    "\n",
    "    1. Check and correct any **grammar or spelling mistakes**.\n",
    "    2. If the input is a **single word**, provide:\n",
    "       - The **correct spelling**\n",
    "       - Its **part of speech** (noun, verb, adjective, etc.)\n",
    "       - A **simple meaning**\n",
    "       - One or two **example sentences**\n",
    "    3. If the input is a **sentence or phrase**, provide:\n",
    "       - A corrected version of the input (if there are mistakes)\n",
    "       - A brief explanation of any major corrections\n",
    "       - The meaning of any **difficult or uncommon words**\n",
    "       - Optionally suggest improved or more natural phrasing\n",
    "    \n",
    "    Respond clearly and concisely. If the input is already correct, confirm that and offer small suggestions for improvement if any.\n",
    "    \"\"\",\n",
    "    human_input_mode=\"NEVER\",\n",
    "    llm_config=llm_config\n",
    "    \n",
    ")"
   ]
  },
  {
   "cell_type": "code",
   "execution_count": 6,
   "id": "0a389be5-963a-4c19-98bc-c0bcebdf23e0",
   "metadata": {},
   "outputs": [],
   "source": [
    "from autogen import UserProxyAgent\n",
    "\n",
    "user_agent=UserProxyAgent(\n",
    "    name=\"user_agent\",\n",
    "    human_input_mode=\"ALWAYS\",\n",
    "    code_execution_config={\n",
    "        \"use_docker\":False\n",
    "    },\n",
    "    max_consecutive_auto_reply=3\n",
    ")"
   ]
  },
  {
   "cell_type": "code",
   "execution_count": 7,
   "id": "e3fc6cb0-1529-4d49-bc50-29996429f4ae",
   "metadata": {},
   "outputs": [
    {
     "name": "stdout",
     "output_type": "stream",
     "text": [
      "\u001b[33muser_agent\u001b[0m (to vocabulory_agent):\n",
      "\n",
      "Review and correct the sentence with proper format\n",
      "\n",
      "--------------------------------------------------------------------------------\n",
      "\u001b[33mvocabulory_agent\u001b[0m (to user_agent):\n",
      "\n",
      "Please provide the sentence you would like me to review and correct.\n",
      "\n",
      "--------------------------------------------------------------------------------\n"
     ]
    },
    {
     "name": "stdin",
     "output_type": "stream",
     "text": [
      "Replying as user_agent. Provide feedback to vocabulory_agent. Press enter to skip and use auto-reply, or type 'exit' to end the conversation:  i loved you so much than you, but you are not just expressing ur feelings to me even when im done anything good to you\n"
     ]
    },
    {
     "name": "stdout",
     "output_type": "stream",
     "text": [
      "\u001b[33muser_agent\u001b[0m (to vocabulory_agent):\n",
      "\n",
      "i loved you so much than you, but you are not just expressing ur feelings to me even when im done anything good to you\n",
      "\n",
      "--------------------------------------------------------------------------------\n",
      "\u001b[33mvocabulory_agent\u001b[0m (to user_agent):\n",
      "\n",
      "I loved you more than you did, but you are not expressing your feelings to me even when I have done good things for you. \n",
      "\n",
      "Explanation:\n",
      "- Corrected \"loved you so much than you\" to \"loved you more than you did\" for better comparison.\n",
      "- Replaced \"ur\" with \"your\" for correct spelling and formality.\n",
      "- Changed \"even when im done anything good to you\" to \"even when I have done good things for you\" for clarity and correct grammar. \n",
      "\n",
      "Suggested phrasing:\n",
      "I loved you more than you loved me, but you are not expressing your feelings to me even when I do good things for you.\n",
      "\n",
      "--------------------------------------------------------------------------------\n"
     ]
    },
    {
     "name": "stdin",
     "output_type": "stream",
     "text": [
      "Replying as user_agent. Provide feedback to vocabulory_agent. Press enter to skip and use auto-reply, or type 'exit' to end the conversation:  i always captivating while we shopping out for dress\n"
     ]
    },
    {
     "name": "stdout",
     "output_type": "stream",
     "text": [
      "\u001b[33muser_agent\u001b[0m (to vocabulory_agent):\n",
      "\n",
      "i always captivating while we shopping out for dress\n",
      "\n",
      "--------------------------------------------------------------------------------\n",
      "\u001b[33mvocabulory_agent\u001b[0m (to user_agent):\n",
      "\n",
      "I am always captivated when we go shopping for dresses.\n",
      "\n",
      "Explanation:\n",
      "- Replaced \"captivating\" with \"captivated\" to show the reaction is towards something being done to the speaker.\n",
      "- Changed \"shopping out for dress\" to \"shopping for dresses\" for correct use of plural form.\n",
      "\n",
      "Suggested phrasing:\n",
      "I am always captivated when we go shopping for dresses.\n",
      "\n",
      "--------------------------------------------------------------------------------\n"
     ]
    },
    {
     "name": "stdin",
     "output_type": "stream",
     "text": [
      "Replying as user_agent. Provide feedback to vocabulory_agent. Press enter to skip and use auto-reply, or type 'exit' to end the conversation:  definition of the word emphasis\n"
     ]
    },
    {
     "name": "stdout",
     "output_type": "stream",
     "text": [
      "\u001b[33muser_agent\u001b[0m (to vocabulory_agent):\n",
      "\n",
      "definition of the word emphasis\n",
      "\n",
      "--------------------------------------------------------------------------------\n",
      "\u001b[33mvocabulory_agent\u001b[0m (to user_agent):\n",
      "\n",
      "- **Correct Spelling:** emphasis\n",
      "- **Part of Speech:** noun\n",
      "- **Simple Meaning:** Emphasis is the special importance or attention given to something. It is used to highlight or stress a specific point or aspect.\n",
      "- **Example Sentences:**\n",
      "   1. The teacher placed great emphasis on the need for accurate information in the research project.\n",
      "   2. When writing an essay, it is essential to use emphasis to highlight key arguments.\n",
      "\n",
      "--------------------------------------------------------------------------------\n"
     ]
    },
    {
     "name": "stdin",
     "output_type": "stream",
     "text": [
      "Replying as user_agent. Provide feedback to vocabulory_agent. Press enter to skip and use auto-reply, or type 'exit' to end the conversation:  exit\n"
     ]
    },
    {
     "name": "stdout",
     "output_type": "stream",
     "text": [
      "\u001b[31m\n",
      ">>>>>>>> TERMINATING RUN (286e933e-7bc0-41e2-b5f8-32e933141f38): User requested to end the conversation\u001b[0m\n"
     ]
    },
    {
     "data": {
      "text/plain": [
       "ChatResult(chat_id=None, chat_history=[{'content': 'Review and correct the sentence with proper format', 'role': 'assistant', 'name': 'user_agent'}, {'content': 'Please provide the sentence you would like me to review and correct.', 'role': 'user', 'name': 'vocabulory_agent'}, {'content': 'i loved you so much than you, but you are not just expressing ur feelings to me even when im done anything good to you', 'role': 'assistant', 'name': 'user_agent'}, {'content': 'I loved you more than you did, but you are not expressing your feelings to me even when I have done good things for you. \\n\\nExplanation:\\n- Corrected \"loved you so much than you\" to \"loved you more than you did\" for better comparison.\\n- Replaced \"ur\" with \"your\" for correct spelling and formality.\\n- Changed \"even when im done anything good to you\" to \"even when I have done good things for you\" for clarity and correct grammar. \\n\\nSuggested phrasing:\\nI loved you more than you loved me, but you are not expressing your feelings to me even when I do good things for you.', 'role': 'user', 'name': 'vocabulory_agent'}, {'content': 'i always captivating while we shopping out for dress', 'role': 'assistant', 'name': 'user_agent'}, {'content': 'I am always captivated when we go shopping for dresses.\\n\\nExplanation:\\n- Replaced \"captivating\" with \"captivated\" to show the reaction is towards something being done to the speaker.\\n- Changed \"shopping out for dress\" to \"shopping for dresses\" for correct use of plural form.\\n\\nSuggested phrasing:\\nI am always captivated when we go shopping for dresses.', 'role': 'user', 'name': 'vocabulory_agent'}, {'content': 'definition of the word emphasis', 'role': 'assistant', 'name': 'user_agent'}, {'content': '- **Correct Spelling:** emphasis\\n- **Part of Speech:** noun\\n- **Simple Meaning:** Emphasis is the special importance or attention given to something. It is used to highlight or stress a specific point or aspect.\\n- **Example Sentences:**\\n   1. The teacher placed great emphasis on the need for accurate information in the research project.\\n   2. When writing an essay, it is essential to use emphasis to highlight key arguments.', 'role': 'user', 'name': 'vocabulory_agent'}], summary='- **Correct Spelling:** emphasis\\n- **Part of Speech:** noun\\n- **Simple Meaning:** Emphasis is the special importance or attention given to something. It is used to highlight or stress a specific point or aspect.\\n- **Example Sentences:**\\n   1. The teacher placed great emphasis on the need for accurate information in the research project.\\n   2. When writing an essay, it is essential to use emphasis to highlight key arguments.', cost={'usage_including_cached_inference': {'total_cost': 0.0011840000000000002, 'gpt-3.5-turbo-0125': {'cost': 0.0011840000000000002, 'prompt_tokens': 1411, 'completion_tokens': 319, 'total_tokens': 1730}}, 'usage_excluding_cached_inference': {'total_cost': 0.0011840000000000002, 'gpt-3.5-turbo-0125': {'cost': 0.0011840000000000002, 'prompt_tokens': 1411, 'completion_tokens': 319, 'total_tokens': 1730}}}, human_input=['i loved you so much than you, but you are not just expressing ur feelings to me even when im done anything good to you', 'i always captivating while we shopping out for dress', 'definition of the word emphasis', 'exit'])"
      ]
     },
     "execution_count": 7,
     "metadata": {},
     "output_type": "execute_result"
    }
   ],
   "source": [
    "user_agent.initiate_chat(vocabulory_agent,message=\"Review and correct the sentence with proper format\")"
   ]
  },
  {
   "cell_type": "code",
   "execution_count": null,
   "id": "c6e28ea3-f1e4-4288-a9ad-9b95dfc8674c",
   "metadata": {},
   "outputs": [],
   "source": []
  }
 ],
 "metadata": {
  "kernelspec": {
   "display_name": "Python 3 (ipykernel)",
   "language": "python",
   "name": "python3"
  },
  "language_info": {
   "codemirror_mode": {
    "name": "ipython",
    "version": 3
   },
   "file_extension": ".py",
   "mimetype": "text/x-python",
   "name": "python",
   "nbconvert_exporter": "python",
   "pygments_lexer": "ipython3",
   "version": "3.12.7"
  }
 },
 "nbformat": 4,
 "nbformat_minor": 5
}
