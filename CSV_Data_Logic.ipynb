{
 "cells": [
  {
   "cell_type": "code",
   "execution_count": 2,
   "id": "e05a3370-325e-430b-b4e0-d7e90862b3a2",
   "metadata": {},
   "outputs": [],
   "source": [
    "from Util import get_openai_api_key\n",
    "OPEN_API_KEY=get_openai_api_key()"
   ]
  },
  {
   "cell_type": "code",
   "execution_count": 3,
   "id": "dafbf23c-f205-49cd-931f-5d67fe545c58",
   "metadata": {},
   "outputs": [],
   "source": [
    "llm_config={\n",
    "    \"config_list\":{\n",
    "        \"model\":\"gpt-3.5-turbo\",\n",
    "        \"api_key\":OPEN_API_KEY\n",
    "    }\n",
    "}"
   ]
  },
  {
   "cell_type": "code",
   "execution_count": 5,
   "id": "ac0e1ab1-6258-442a-b353-65ab89483357",
   "metadata": {},
   "outputs": [],
   "source": [
    "import pandas as pd\n",
    "dataset=pd.read_csv(\"sample_sales_data.csv\")\n",
    "newdata= dataset.to_string(index=False)"
   ]
  },
  {
   "cell_type": "code",
   "execution_count": 6,
   "id": "0f2cf473-ad20-4a6a-8040-5f94d9b367c8",
   "metadata": {},
   "outputs": [
    {
     "data": {
      "text/plain": [
       "'region product  sales  quantity       date\\n North  Laptop  15000         3 2025-07-01\\n South  Tablet  12000         5 2025-07-01\\n  East   Phone   9000         2 2025-07-02\\n  West  Laptop  20000         4 2025-07-02\\n South   Phone  11000         6 2025-07-03\\n  East  Tablet   7000         3 2025-07-03\\n North  Laptop  18000         5 2025-07-04\\n  West   Phone   9500         1 2025-07-04\\n South  Tablet  13000         4 2025-07-05\\n  East  Laptop  17000         7 2025-07-05'"
      ]
     },
     "execution_count": 6,
     "metadata": {},
     "output_type": "execute_result"
    }
   ],
   "source": [
    "newdata"
   ]
  },
  {
   "cell_type": "code",
   "execution_count": 7,
   "id": "2e2fa953-4a99-4328-b58c-99abf78dd726",
   "metadata": {},
   "outputs": [],
   "source": [
    "from autogen import UserProxyAgent,AssistantAgent,GroupChat,GroupChatManager\n",
    "\n",
    "user_proxy=UserProxyAgent(\n",
    "    name=\"user_proxy\",\n",
    "    human_input_mode=\"NEVER\",\n",
    "    code_execution_config={\n",
    "        \"use_docker\":False\n",
    "    }\n",
    ")"
   ]
  },
  {
   "cell_type": "code",
   "execution_count": 9,
   "id": "5295f3a6-a6d4-4a75-87ce-c44f8b18ed74",
   "metadata": {},
   "outputs": [],
   "source": [
    "validator_agent=AssistantAgent(\n",
    "    name=\"validator_agent\",\n",
    "    llm_config=llm_config,\n",
    "    system_message=f\"\"\" \n",
    "    You are an validator system assistant,\n",
    "    Read the data which is already extracted from the newdata variable, and Show only rows where sales > 10,000 and region = 'South'.\n",
    "    here is the dataset,\n",
    "    {newdata}\n",
    "    \"\"\"\n",
    ")"
   ]
  },
  {
   "cell_type": "code",
   "execution_count": 13,
   "id": "214cd60d-e228-4085-b526-4b429c06c708",
   "metadata": {},
   "outputs": [],
   "source": [
    "csv_data_converter=AssistantAgent(\n",
    "    name=\"csv_data_converter\",\n",
    "    llm_config=llm_config,\n",
    "    system_message=\"\"\" \n",
    "    you are an csv converter agent, based on the filtered results from validator agent.\n",
    "    save the desired output results to the final_verdict.csv file\n",
    "    You will receive a filtered dataset (as text table or CSV string).\n",
    "    Task:\n",
    "    - Convert it into pandas DataFrame.\n",
    "    - Generate Python code to save it into 'verified_emails.csv'.\n",
    "    Output only Python code inside a code block.\n",
    "    \"\"\"\n",
    ")"
   ]
  },
  {
   "cell_type": "code",
   "execution_count": 14,
   "id": "46bcc074-a93c-4b26-85b3-944df130c906",
   "metadata": {},
   "outputs": [],
   "source": [
    "group_chat=GroupChat(\n",
    "    agents=[\n",
    "        user_proxy,\n",
    "        validator_agent,\n",
    "        csv_data_converter\n",
    "    ],\n",
    "    messages=[],\n",
    "    max_round=6\n",
    ")\n",
    "\n",
    "manager=GroupChatManager(\n",
    "    groupchat=group_chat,\n",
    "    llm_config=llm_config\n",
    ")"
   ]
  },
  {
   "cell_type": "code",
   "execution_count": 15,
   "id": "aebf620c-b8e8-43a9-9066-0cf75d591e4c",
   "metadata": {},
   "outputs": [
    {
     "name": "stdout",
     "output_type": "stream",
     "text": [
      "\u001b[33muser_proxy\u001b[0m (to chat_manager):\n",
      "\n",
      "Can you read the dataset region product  sales  quantity       date\n",
      " North  Laptop  15000         3 2025-07-01\n",
      " South  Tablet  12000         5 2025-07-01\n",
      "  East   Phone   9000         2 2025-07-02\n",
      "  West  Laptop  20000         4 2025-07-02\n",
      " South   Phone  11000         6 2025-07-03\n",
      "  East  Tablet   7000         3 2025-07-03\n",
      " North  Laptop  18000         5 2025-07-04\n",
      "  West   Phone   9500         1 2025-07-04\n",
      " South  Tablet  13000         4 2025-07-05\n",
      "  East  Laptop  17000         7 2025-07-05 and display the filtered results and convert it into an csv format file\n",
      "\n",
      "--------------------------------------------------------------------------------\n",
      "\u001b[32m\n",
      "Next speaker: validator_agent\n",
      "\u001b[0m\n",
      "\u001b[33mvalidator_agent\u001b[0m (to chat_manager):\n",
      "\n",
      "Sure! Here are the rows where sales > 10,000 and region = 'South':\n",
      "\n",
      "```\n",
      "region product  sales  quantity       date\n",
      " South  Tablet  12000         5 2025-07-01\n",
      " South   Phone  11000         6 2025-07-03\n",
      " South  Tablet  13000         4 2025-07-05\n",
      "```\n",
      "\n",
      "I will convert this filtered data into a CSV format file. One moment please.\n",
      "\n",
      "--------------------------------------------------------------------------------\n",
      "\u001b[32m\n",
      "Next speaker: csv_data_converter\n",
      "\u001b[0m\n",
      "\u001b[33mcsv_data_converter\u001b[0m (to chat_manager):\n",
      "\n",
      "```python\n",
      "import pandas as pd\n",
      "\n",
      "# Create a DataFrame with the filtered data\n",
      "data = {\n",
      "    'region': ['South', 'South', 'South'],\n",
      "    'product': ['Tablet', 'Phone', 'Tablet'],\n",
      "    'sales': [12000, 11000, 13000],\n",
      "    'quantity': [5, 6, 4],\n",
      "    'date': ['2025-07-01', '2025-07-03', '2025-07-05']\n",
      "}\n",
      "\n",
      "df = pd.DataFrame(data)\n",
      "\n",
      "# Save the DataFrame to a CSV file\n",
      "df.to_csv('final_verdict.csv', index=False)\n",
      "```\n",
      "\n",
      "--------------------------------------------------------------------------------\n",
      "\u001b[32m\n",
      "Next speaker: user_proxy\n",
      "\u001b[0m\n",
      "\u001b[31m\n",
      ">>>>>>>> EXECUTING CODE BLOCK 0 (inferred language is python)...\u001b[0m\n",
      "\u001b[33muser_proxy\u001b[0m (to chat_manager):\n",
      "\n",
      "exitcode: 0 (execution succeeded)\n",
      "Code output: \n",
      "\n",
      "\n",
      "--------------------------------------------------------------------------------\n",
      "\u001b[32m\n",
      "Next speaker: user_proxy\n",
      "\u001b[0m\n",
      "\u001b[33muser_proxy\u001b[0m (to chat_manager):\n",
      "\n",
      "\n",
      "\n",
      "--------------------------------------------------------------------------------\n",
      "\u001b[32m\n",
      "Next speaker: user_proxy\n",
      "\u001b[0m\n",
      "\u001b[33muser_proxy\u001b[0m (to chat_manager):\n",
      "\n",
      "\n",
      "\n",
      "--------------------------------------------------------------------------------\n",
      "\u001b[31m\n",
      ">>>>>>>> TERMINATING RUN (0d381b12-7714-4cc0-b028-3cdf5f06a686): Maximum rounds (6) reached\u001b[0m\n"
     ]
    }
   ],
   "source": [
    "response= user_proxy.initiate_chat(\n",
    "    manager,\n",
    "    message=f\"\"\"Can you read the dataset {newdata} and display the filtered results and convert it into an csv format file\"\"\"\n",
    ")"
   ]
  },
  {
   "cell_type": "code",
   "execution_count": 16,
   "id": "3e5b1775-84e0-4e83-9195-15d8d2986f07",
   "metadata": {},
   "outputs": [],
   "source": [
    "import pandas as pd\n",
    "\n",
    "# Create a DataFrame with the filtered data\n",
    "data = {\n",
    "    'region': ['South', 'South', 'South'],\n",
    "    'product': ['Tablet', 'Phone', 'Tablet'],\n",
    "    'sales': [12000, 11000, 13000],\n",
    "    'quantity': [5, 6, 4],\n",
    "    'date': ['2025-07-01', '2025-07-03', '2025-07-05']\n",
    "}\n",
    "\n",
    "df = pd.DataFrame(data)\n",
    "\n",
    "# Save the DataFrame to a CSV file\n",
    "df.to_csv('final_verdict.csv', index=False)"
   ]
  },
  {
   "cell_type": "code",
   "execution_count": null,
   "id": "73f1fb37-3a18-4fc2-b5e9-a6c1fb26b949",
   "metadata": {},
   "outputs": [],
   "source": []
  }
 ],
 "metadata": {
  "kernelspec": {
   "display_name": "Python 3 (ipykernel)",
   "language": "python",
   "name": "python3"
  },
  "language_info": {
   "codemirror_mode": {
    "name": "ipython",
    "version": 3
   },
   "file_extension": ".py",
   "mimetype": "text/x-python",
   "name": "python",
   "nbconvert_exporter": "python",
   "pygments_lexer": "ipython3",
   "version": "3.12.7"
  }
 },
 "nbformat": 4,
 "nbformat_minor": 5
}
